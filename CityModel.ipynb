{
 "cells": [
  {
   "cell_type": "markdown",
   "source": [
    "# Random City Model\n",
    "_Felix Haumann_\n",
    "\n",
    "Prerequisites:\n",
    "- Excel file with city map where Roads are marked with \"X\"\n",
    "- Excel map needs to have one lot marked with \"D\" which is the depot\n",
    "\n",
    "Model parameters:\n",
    "- Every road accessible lot will have a house\n",
    "- House have between 1 and 15 households\n",
    "- Households are assigned to the houses at (insert probability here)\n",
    "- Every household can potentially receive parcels\n",
    "- Probability for a household is (insert probability here)\n",
    "- The probability is calculated for each household within a house and the resulting parcels then summed up for that house\n",
    "\n",
    "Model limitations:\n",
    "- Houses have no orientation so parcels can be delivered to the 'backside'"
   ],
   "metadata": {
    "collapsed": false
   }
  },
  {
   "cell_type": "markdown",
   "source": [
    "---\n",
    "# SETUP"
   ],
   "metadata": {
    "collapsed": false
   }
  },
  {
   "cell_type": "markdown",
   "source": [
    "### Library imports"
   ],
   "metadata": {
    "collapsed": false
   }
  },
  {
   "cell_type": "code",
   "execution_count": null,
   "outputs": [],
   "source": [
    "import copy\n",
    "import datetime\n",
    "import math\n",
    "import random\n",
    "import os\n",
    "from typing import Tuple, Dict, Any, List\n",
    "import json\n",
    "\n",
    "import xlwings as xw\n",
    "import pandas as pd\n",
    "import numpy as np\n",
    "import time\n",
    "import ast\n",
    "import csv\n",
    "\n",
    "\n",
    "from pathfinding.core.diagonal_movement import DiagonalMovement\n",
    "from pathfinding.core.grid import Grid\n",
    "from pathfinding.finder.a_star import AStarFinder\n",
    "from sklearn.cluster import KMeans\n",
    "from IPython.display import display\n",
    "import string\n",
    "from pprint import pprint\n",
    "from helper import generate_letter_combinations, save_df_as_csv, read_df_from_csv, elapsed_time, export_map_to_excel_with_formatting\n",
    "from ortools.constraint_solver import routing_enums_pb2\n",
    "from ortools.constraint_solver import pywrapcp"
   ],
   "metadata": {
    "collapsed": false,
    "ExecuteTime": {
     "start_time": "2023-04-10T17:08:11.636562Z",
     "end_time": "2023-04-10T17:08:13.095448Z"
    },
    "pycharm": {
     "is_executing": true
    }
   }
  },
  {
   "cell_type": "markdown",
   "source": [
    "\n",
    "## Helper functions"
   ],
   "metadata": {
    "collapsed": false
   }
  },
  {
   "cell_type": "code",
   "execution_count": null,
   "outputs": [],
   "source": [
    "def read_excel_map_as_df(wb_path, ws_name, col_range, skiprows, number_of_rows, number_of_cols):\n",
    "    col_names = list(range(number_of_cols))\n",
    "    print(\"read_excel_map_as_df:\",col_range, skiprows, \"number_of_rows\", number_of_rows, \"number_of_cols\", number_of_cols)\n",
    "    df = pd.read_excel(wb_path, sheet_name=ws_name, usecols=col_range, skiprows=skiprows, nrows=number_of_rows, names=col_names)\n",
    "    print(df)\n",
    "    return df"
   ],
   "metadata": {
    "collapsed": false,
    "ExecuteTime": {
     "start_time": "2023-04-10T17:08:13.099971Z",
     "end_time": "2023-04-10T17:08:13.110925Z"
    },
    "pycharm": {
     "is_executing": true
    }
   }
  },
  {
   "cell_type": "code",
   "execution_count": null,
   "outputs": [],
   "source": [
    "def get_lot_xy_from_lot_name(ref_dict: dict, lot_name:str):\n",
    "    return ref_dict[lot_name][key_h_xy]"
   ],
   "metadata": {
    "collapsed": false,
    "ExecuteTime": {
     "start_time": "2023-04-10T17:08:13.112919Z",
     "end_time": "2023-04-10T17:08:13.187463Z"
    },
    "pycharm": {
     "is_executing": true
    }
   }
  },
  {
   "cell_type": "code",
   "execution_count": null,
   "outputs": [],
   "source": [
    "def write_master_house_dict_to_csv(data, filename):\n",
    "\n",
    "    # Define the fieldnames for the CSV file\n",
    "    fieldnames = [\"lot\",\n",
    "                  key_h_xy,\n",
    "                  key_h_lot_use,\n",
    "                  key_h_households,\n",
    "                  key_h_parcels,\n",
    "                  key_h_delivery_district,\n",
    "                  key_h_path_finding_val,\n",
    "                  key_h_delivery_runs_required,\n",
    "                  key_h_parcels_redirected_conv,\n",
    "                  key_h_parcels_redirected_auto\n",
    "\n",
    "                  # INSERT NEW ENTRIES ABOVE (MIND THE COMMA)\n",
    "                  ]\n",
    "\n",
    "    # Write the dictionary to the CSV file\n",
    "    with open(filename, mode='w', newline='') as file:\n",
    "        writer = csv.DictWriter(file, fieldnames=fieldnames)\n",
    "        writer.writeheader()\n",
    "        for key, value in data.items():\n",
    "            writer.writerow({\"lot\": key,\n",
    "                             key_h_xy: value[key_h_xy],\n",
    "                             key_h_lot_use: value[key_h_lot_use],\n",
    "                             key_h_households: value[key_h_households],\n",
    "                             key_h_parcels: value[key_h_parcels],\n",
    "                             key_h_delivery_district: value[key_h_delivery_district],\n",
    "                             key_h_path_finding_val: value[key_h_path_finding_val],\n",
    "                             key_h_delivery_runs_required: value[key_h_delivery_runs_required],\n",
    "                             key_h_parcels_redirected_conv: value[key_h_parcels_redirected_conv],\n",
    "                             key_h_parcels_redirected_auto: value[key_h_parcels_redirected_auto]\n",
    "\n",
    "                             # INSERT NEW ENTRIES ABOVE (MIND THE COMMA)\n",
    "                             })\n",
    "\n",
    "def read_csv_to_master_house_dict(filename):\n",
    "    temp_dict = {}\n",
    "\n",
    "    # Read the CSV file and populate the dictionary\n",
    "    with open(filename, mode='r') as file:\n",
    "        reader = csv.DictReader(file)\n",
    "        for row in reader:\n",
    "            lot = row[\"lot\"]\n",
    "            xy = tuple(map(int, row[key_h_xy].strip(\"()\").split(\",\")))\n",
    "            lot_use = row[key_h_lot_use]\n",
    "            households = int(row[key_h_households])\n",
    "            parcels = int(row[key_h_parcels])\n",
    "            delivery_district = row[key_h_delivery_district]\n",
    "            path_finding_val = int(row[key_h_path_finding_val])\n",
    "            delivery_runs_required = int(row[key_h_delivery_runs_required])\n",
    "            parcels_redirected_conv = int(row[key_h_parcels_redirected_conv])\n",
    "            parcels_redirected_auto = int(row[key_h_parcels_redirected_auto])\n",
    "\n",
    "            # INSERT NEW ENTRIES ABOVE\n",
    "            temp_dict[lot] = {key_h_xy: xy,\n",
    "                              key_h_lot_use: lot_use,\n",
    "                              key_h_households: households,\n",
    "                              key_h_parcels: parcels,\n",
    "                              key_h_delivery_district: delivery_district,\n",
    "                              key_h_path_finding_val: path_finding_val,\n",
    "                              key_h_delivery_runs_required: delivery_runs_required,\n",
    "                              key_h_parcels_redirected_conv: parcels_redirected_conv,\n",
    "                              key_h_parcels_redirected_auto: parcels_redirected_auto\n",
    "\n",
    "                              # INSERT NEW ENTRIES ABOVE (MIND THE COMMA)\n",
    "                              }\n",
    "    return temp_dict"
   ],
   "metadata": {
    "collapsed": false,
    "ExecuteTime": {
     "start_time": "2023-04-10T17:08:13.135560Z",
     "end_time": "2023-04-10T17:08:13.187463Z"
    },
    "pycharm": {
     "is_executing": true
    }
   }
  },
  {
   "cell_type": "code",
   "execution_count": null,
   "outputs": [],
   "source": [
    "def write_or_read_depots(depots_xy: list, path: str, read_or_write: str):\n",
    "    if read_or_write == \"w\":\n",
    "        # Writing to CSV file\n",
    "        with open(path, mode='w', newline='') as file:\n",
    "            writer = csv.writer(file)\n",
    "            writer.writerows(depots_xy)\n",
    "    elif read_or_write == \"r\":\n",
    "        # Reading from CSV file\n",
    "        with open(path, mode='r') as file:\n",
    "            reader = csv.reader(file)\n",
    "            depots_xy_read = [(int(row[0]), int(row[1])) for row in reader]\n",
    "        return depots_xy_read"
   ],
   "metadata": {
    "collapsed": false,
    "ExecuteTime": {
     "start_time": "2023-04-10T17:08:13.145740Z",
     "end_time": "2023-04-10T17:08:13.187463Z"
    },
    "pycharm": {
     "is_executing": true
    }
   }
  },
  {
   "cell_type": "code",
   "execution_count": null,
   "outputs": [],
   "source": [
    "def get_excel_column_name(col_index):\n",
    "    \"\"\"\n",
    "    Returns the Excel column name (e.g., 'A', 'B', ..., 'Z', 'AA', 'AB', ..., 'ZZ', 'AAA', ...)\n",
    "    for a given column index.\n",
    "    \"\"\"\n",
    "    col_name = ''\n",
    "    while col_index > 0:\n",
    "        col_index, remainder = divmod(col_index - 1, 26)\n",
    "        col_name = chr(65 + remainder) + col_name\n",
    "    return col_name"
   ],
   "metadata": {
    "collapsed": false,
    "ExecuteTime": {
     "start_time": "2023-04-10T17:08:13.161334Z",
     "end_time": "2023-04-10T17:08:13.187463Z"
    },
    "pycharm": {
     "is_executing": true
    }
   }
  },
  {
   "cell_type": "markdown",
   "source": [
    "## Model parameters"
   ],
   "metadata": {
    "collapsed": false
   }
  },
  {
   "cell_type": "markdown",
   "source": [
    "### Paths"
   ],
   "metadata": {
    "collapsed": false
   }
  },
  {
   "cell_type": "code",
   "execution_count": null,
   "outputs": [],
   "source": [
    "# Excel files\n",
    "blank_wb_city = r\"C:\\Users\\fhaum\\OneDrive\\401 MASTER - Masterarbeit\\04 Kalkulationen\\CITY_BLANK.xlsx\"\n",
    "blank_ws_city = \"BLANK\"\n",
    "\n",
    "model_output_path = r\"C:\\Users\\fhaum\\OneDrive\\401 MASTER - Masterarbeit\\04 Kalkulationen\\pythonProject\\model_output\"\n",
    "\n",
    "excel_pathvis_wb = r\"C:\\Users\\fhaum\\OneDrive\\401 MASTER - Masterarbeit\\04 Kalkulationen\\pythonProject\\PathVisualisation_TEST.xlsx\"\n",
    "excel_pathvis_ws = \"VIS\"\n",
    "\n",
    "# CSV filenames\n",
    "# TODO: add check if csv files are all available\n",
    "csv_name_map_base = \"map_base\"\n",
    "csv_distance_matrix_base = \"distance_matrix_district_\"\n",
    "\n",
    "master_house_csv = r\"C:\\Users\\fhaum\\OneDrive\\401 MASTER - Masterarbeit\\04 Kalkulationen\\pythonProject\\csv_files\\master_houses_dict.csv\"\n",
    "depots_xy_csv = r\"C:\\Users\\fhaum\\OneDrive\\401 MASTER - Masterarbeit\\04 Kalkulationen\\pythonProject\\csv_files\\depots_xy.csv\"\n",
    "\n"
   ],
   "metadata": {
    "collapsed": false,
    "ExecuteTime": {
     "start_time": "2023-04-10T17:08:13.175970Z",
     "end_time": "2023-04-10T17:08:13.188460Z"
    },
    "pycharm": {
     "is_executing": true
    }
   }
  },
  {
   "cell_type": "markdown",
   "source": [
    "### Switches\n",
    "rerun_simulation: decides whether the simulation will be run again or whether the available csv files will be used"
   ],
   "metadata": {
    "collapsed": false
   }
  },
  {
   "cell_type": "code",
   "execution_count": null,
   "outputs": [],
   "source": [
    "rerun_simulation = True\n",
    "use_example_parameters = 2"
   ],
   "metadata": {
    "collapsed": false,
    "ExecuteTime": {
     "start_time": "2023-04-10T17:08:13.189459Z",
     "end_time": "2023-04-10T17:08:13.202974Z"
    },
    "pycharm": {
     "is_executing": true
    }
   }
  },
  {
   "cell_type": "markdown",
   "source": [
    "### City parameters"
   ],
   "metadata": {
    "collapsed": false
   }
  },
  {
   "cell_type": "code",
   "execution_count": null,
   "outputs": [],
   "source": [
    "if use_example_parameters == 1:\n",
    "    # Defining city boundaries\n",
    "    num_of_rows = 30  # (X)\n",
    "    num_of_cols = 40  # (Y)\n",
    "    # Todo extract delivery districts from Excel map\n",
    "    delivery_districts={\"A\":[(0,0),(19,4)],\n",
    "                        \"B\":[(0,5),(19,9)],\n",
    "                        \"C\":[(0,10),(19,14)],\n",
    "                        \"D\":[(0,15),(19,19)],\n",
    "                        \"E\":[(20,0),(39,4)],\n",
    "                        \"F\":[(20,5),(39,9)],\n",
    "                        \"G\":[(20,10),(39,14)],\n",
    "                        \"H\":[(20,15),(39,19)],\n",
    "                        \"I\":[(0,20),(39,29)]\n",
    "                        }\n",
    "\n",
    "elif use_example_parameters == 2:\n",
    "    num_of_rows = 51\n",
    "    num_of_cols = 50\n",
    "    delivery_districts = {\"A\": [(0, 0), (19, 19)],\n",
    "                      \"B\": [(20, 0), (39, 19)],\n",
    "                      \"C\": [(0, 20), (19, 40)],\n",
    "                      \"D\": [(20, 20), (39, 40)],\n",
    "                      \"E\": [(0, 41), (49, 50)],\n",
    "                      \"F\": [(40, 0), (49, 40)]\n",
    "                      }\n",
    "\n",
    "elif use_example_parameters == 3:\n",
    "    num_of_rows = 100\n",
    "    num_of_cols = 100\n",
    "    delivery_districts = {\"A\": [(0, 0), (33, 23)],\n",
    "                      \"B\": [(34, 0), (71, 26)],\n",
    "                      \"C\": [(72, 0), (99, 35)],\n",
    "                      \"D\": [(0, 24), (34, 47)],\n",
    "                      \"E\": [(35, 27), (71, 52)],\n",
    "                      \"F\": [(72, 36), (99, 66)],\n",
    "                      \"G\": [(0, 48), (34, 71)],\n",
    "                      \"H\": [(35, 53), (71, 75)],\n",
    "                      \"I\": [(72, 67), (99, 99)],\n",
    "                      \"J\": [(0, 72), (34, 99)],\n",
    "                      \"K\": [(35, 76), (71, 99)]\n",
    "                      }\n",
    "\n",
    "else:\n",
    "    raise ValueError(\"No parameters defined\")\n",
    "\n",
    "print(f\"\"\"\n",
    "Using parameter {use_example_parameters}:\n",
    "Map size = {num_of_cols, num_of_rows}\n",
    "Delivery districts = {delivery_districts}\n",
    "\"\"\")\n"
   ],
   "metadata": {
    "collapsed": false,
    "ExecuteTime": {
     "start_time": "2023-04-10T17:08:13.209619Z",
     "end_time": "2023-04-10T17:08:13.342729Z"
    },
    "pycharm": {
     "is_executing": true
    }
   }
  },
  {
   "cell_type": "markdown",
   "source": [
    "### Map parameters"
   ],
   "metadata": {
    "collapsed": false
   }
  },
  {
   "cell_type": "code",
   "execution_count": null,
   "outputs": [],
   "source": [
    "# Defining the map boundaries of the Excel map\n",
    "first_row = 3\n",
    "first_col = 3\n",
    "\n",
    "# Parameters for reading the Excel map\n",
    "column_range = f\"{get_excel_column_name(first_col)}:{get_excel_column_name(first_col+num_of_cols-1)}\"\n",
    "print(column_range)\n",
    "# column_range = \"C:AP\"\n",
    "skiprows = 1\n",
    "map_char_street_read = \"X\"  # Map char which is read from the Excel template\n",
    "map_char_depot = \"D\"\n",
    "map_char_parcel = \"P\"\n",
    "map_char_house = \"H\"\n",
    "map_char_empty_lot = \".\"\n",
    "map_char_street_write = \" \"  # Map char which will be printed to the visual outputs\n",
    "name_string_depot = \"DEPOT\"\n",
    "\n",
    "\n",
    "\n",
    "\n",
    "\n",
    "# # Defining the map boundaries from the Excel file\n",
    "# first_row = 3\n",
    "# first_col = 3\n",
    "# last_row = 102\n",
    "# last_col = 102\n",
    "# num_of_rows = last_row-first_row+1\n",
    "# num_of_cols = last_col-first_col+1\n",
    "# column_range = \"C:CX\"\n",
    "# skiprows = 1\n",
    "# map_char_street = \"X\"\n",
    "# map_char_depot = \"D\"\n",
    "# name_string_depot = \"DEPOT\"\n",
    "#\n",
    "# # DEBUG Switch back on\n",
    "# delivery_districts = {\"A\": [(0, 0), (33, 23)],\n",
    "#                       \"B\": [(34, 0), (71, 26)],\n",
    "#                       \"C\": [(72, 0), (99, 35)],\n",
    "#                       \"D\": [(0, 24), (34, 47)],\n",
    "#                       \"E\": [(35, 27), (71, 52)],\n",
    "#                       \"F\": [(72, 36), (99, 66)],\n",
    "#                       \"G\": [(0, 48), (34, 71)],\n",
    "#                       \"H\": [(35, 53), (71, 75)],\n",
    "#                       \"I\": [(72, 67), (99, 99)],\n",
    "#                       \"J\": [(0, 72), (34, 99)],\n",
    "#                       \"K\": [(35, 76), (71, 99)]\n",
    "#                       }\n",
    "\n",
    "\n",
    "\n",
    "# Pathfinding variables\n",
    "# These variables are assigned to the cells for pathfinding\n",
    "# Tiles with val 1 = walkable\n",
    "# Tiles with val >1 = walkable but higher cost\n",
    "# Tiles with val 0 or negative = not walkable\n",
    "# Note: the last tile (end_coordinates) must have a positive value otherwise it cannot be reached\n",
    "path_val_depot = 200\n",
    "path_val_house = 500\n",
    "path_val_house_with_parcels = 100\n",
    "path_val_empty_lot = 0\n",
    "path_val_road = 1"
   ],
   "metadata": {
    "collapsed": false,
    "ExecuteTime": {
     "start_time": "2023-04-10T17:08:13.223136Z",
     "end_time": "2023-04-10T17:08:13.366843Z"
    },
    "pycharm": {
     "is_executing": true
    }
   }
  },
  {
   "cell_type": "markdown",
   "source": [
    "### Multiplier parameters"
   ],
   "metadata": {
    "collapsed": false
   }
  },
  {
   "cell_type": "code",
   "execution_count": null,
   "outputs": [],
   "source": [
    "par_sys_distance_multiplier = 0.5  # Modifying the distances\n",
    "par_sys_meters_per_tile = 10  # Defining how big the size of a lot is in meters"
   ],
   "metadata": {
    "collapsed": false,
    "ExecuteTime": {
     "start_time": "2023-04-10T17:08:13.235621Z",
     "end_time": "2023-04-10T17:08:13.366843Z"
    },
    "pycharm": {
     "is_executing": true
    }
   }
  },
  {
   "cell_type": "markdown",
   "source": [
    "### System parameters"
   ],
   "metadata": {
    "collapsed": false
   }
  },
  {
   "cell_type": "markdown",
   "source": [
    "#### Conventional delivery"
   ],
   "metadata": {
    "collapsed": false
   }
  },
  {
   "cell_type": "code",
   "execution_count": null,
   "outputs": [],
   "source": [
    "par_sys_conv_type_name = \"conventional\"\n",
    "par_sys_conv_vehicle_speed = 10"
   ],
   "metadata": {
    "collapsed": false,
    "ExecuteTime": {
     "start_time": "2023-04-10T17:08:13.252094Z",
     "end_time": "2023-04-10T17:08:13.366843Z"
    },
    "pycharm": {
     "is_executing": true
    }
   }
  },
  {
   "cell_type": "markdown",
   "source": [
    "#### Autonomous delivery"
   ],
   "metadata": {
    "collapsed": false
   }
  },
  {
   "cell_type": "code",
   "execution_count": null,
   "outputs": [],
   "source": [
    "par_sys_aut_type_name = \"autonomous\"\n",
    "par_sys_aut_vehicle_capacity = 1\n",
    "par_sys_aut_vehicle_speed = 6"
   ],
   "metadata": {
    "collapsed": false,
    "ExecuteTime": {
     "start_time": "2023-04-10T17:08:13.268602Z",
     "end_time": "2023-04-10T17:08:13.366843Z"
    },
    "pycharm": {
     "is_executing": true
    }
   }
  },
  {
   "cell_type": "markdown",
   "source": [
    "### Weights & distributions"
   ],
   "metadata": {
    "collapsed": false
   }
  },
  {
   "cell_type": "code",
   "execution_count": null,
   "outputs": [],
   "source": [
    "# Parcel quantity choices and weights\n",
    "parcel_quantity_choices = [0, 1, 2, 3, 4, 5, 6, 7, 8, 9, 10]\n",
    "parcel_quantity_weights = [0.8996, 0.0634, 0.0233, 0.0085, 0.0031, 0.0011, 0.0004, 0.0001, 0.0001, 0.0001, 0.0001]\n",
    "\n",
    "# Household size choices and weights\n",
    "household_size_choices = [1, 2, 3, 4, 5, 6, 7, 8, 9, 10, 11, 12, 13, 14, 15]\n",
    "household_size_weights = [0.4, 0.35, 0.045, 0.04, 0.035, 0.03, 0.025, 0.02, 0.015, 0.01, 0.005, 0.0025, 0.0125, 0.005, 0.005]\n",
    "\n",
    "# Parcel delivery redirection rate\n",
    "parcel_redirected_choices = [False, True]\n",
    "parcel_redirected_weights = {par_sys_conv_type_name: [0.95, 0.05], par_sys_aut_type_name: [0.97, 0.03]}"
   ],
   "metadata": {
    "collapsed": false,
    "ExecuteTime": {
     "start_time": "2023-04-10T17:08:13.286653Z",
     "end_time": "2023-04-10T17:08:13.366843Z"
    },
    "pycharm": {
     "is_executing": true
    }
   }
  },
  {
   "cell_type": "markdown",
   "source": [
    "---\n",
    "# Central datastructures"
   ],
   "metadata": {
    "collapsed": false
   }
  },
  {
   "cell_type": "markdown",
   "source": [
    "## Master_Houses_Dict"
   ],
   "metadata": {
    "collapsed": false
   }
  },
  {
   "cell_type": "code",
   "execution_count": null,
   "outputs": [],
   "source": [
    "master_houses_dict = {}\n",
    "\n",
    "# IMPORTANT: CHANGES TO DICT STRUCTURE REQUIRE INTEGRATION INTO IMPORT AND EXPORT FUNCTION (write_master_house_dict_to_csv)\n",
    "# IMPORTANT: ALSO ADD TO POPULATE MASTER HOUSES DICT FUNCTION\n",
    "# IMPORTANT: ALSO ADD TO OUTPUT DICT (master_districts_output_dict)\n",
    "\n",
    "key_h_xy = \"xy\"\n",
    "key_h_lot_use = \"lot_use\"\n",
    "key_h_path_finding_val = \"path_finding_val\"\n",
    "key_h_households = \"households\"\n",
    "key_h_parcels = \"parcels\"\n",
    "key_h_delivery_district = \"delivery_district\"\n",
    "key_h_delivery_runs_required = \"delivery_runs_required\"  # Depending on carry capacity autonomous vehicles might have to drive to house more often\n",
    "key_h_parcels_redirected_conv = \"parcels_redirected_conv\"  # Parcels which could not be delivered and were returned to the depot\n",
    "key_h_parcels_redirected_auto = \"parcels_redirected_auto\"  # Parcels which could not be delivered and were returned to the depot\n",
    "\n",
    "# Final format will be: {\"AAA\":{\"xy\":(0,0), \"lot_use\":\"P\", \"households\":2, \"parcels\":4, \"deliver_district\":\"A\", \"delivery_runs_required\":4}, \"AAB\":{\"xy\":(1,0), \"lot_use\": \".\", \"households\":0, \"parcels\":0, \"delivery_district\":\"\", \"delivery_runs_required\":0, \"redirected_parcels\":1}}"
   ],
   "metadata": {
    "collapsed": false,
    "ExecuteTime": {
     "start_time": "2023-04-10T17:08:13.301135Z",
     "end_time": "2023-04-10T17:08:13.366843Z"
    },
    "pycharm": {
     "is_executing": true
    }
   }
  },
  {
   "cell_type": "code",
   "execution_count": null,
   "outputs": [],
   "source": [
    "def populate_master_houses_dict(height:int = num_of_rows, width:int = num_of_cols):\n",
    "    letter_combinations = generate_letter_combinations()\n",
    "    for y in range(width):\n",
    "        for x in range(height):\n",
    "            name = next(letter_combinations)\n",
    "            master_houses_dict[name] = {key_h_xy: (x, y), key_h_lot_use: None, key_h_households: 0, key_h_parcels: 0, key_h_delivery_district: \"\", key_h_path_finding_val:0, key_h_delivery_runs_required:0, key_h_parcels_redirected_conv:0, key_h_parcels_redirected_auto:0}\n",
    "\n",
    "populate_master_houses_dict()"
   ],
   "metadata": {
    "collapsed": false,
    "ExecuteTime": {
     "start_time": "2023-04-10T17:08:13.314765Z",
     "end_time": "2023-04-10T17:08:13.366843Z"
    },
    "pycharm": {
     "is_executing": true
    }
   }
  },
  {
   "cell_type": "code",
   "execution_count": null,
   "outputs": [],
   "source": [
    "pprint(master_houses_dict)"
   ],
   "metadata": {
    "collapsed": false,
    "ExecuteTime": {
     "start_time": "2023-04-10T17:08:13.331248Z",
     "end_time": "2023-04-10T17:08:13.748193Z"
    },
    "pycharm": {
     "is_executing": true
    }
   }
  },
  {
   "cell_type": "markdown",
   "source": [
    "## Master_Routes_Dict"
   ],
   "metadata": {
    "collapsed": false
   }
  },
  {
   "cell_type": "code",
   "execution_count": null,
   "outputs": [],
   "source": [
    "# Dict that will contain all the information about the conventional delivery districts\n",
    "\n",
    "# Final format will be:\n",
    "# {<districtA>: {\"paths\":{<vehicle_id1>: ['DEPOT1', 'ATI', 'AXC', 'BMM']}, \"path_lengths\" : {<vehicle_id1>: 450}},\n",
    "# <districtB>: {\"paths\":{<vehicle_id1>: ['DEPOT1', 'ATI', 'AXC', 'BMM']}, \"path_lengths\" : {<vehicle_id1>: 450}}}\n",
    "\n",
    "master_routes_dict = {}\n",
    "\n",
    "key_r_paths = \"paths\"\n",
    "key_r_path_lengths = \"path_lengths\"\n"
   ],
   "metadata": {
    "collapsed": false,
    "ExecuteTime": {
     "start_time": "2023-04-10T17:08:13.744689Z",
     "end_time": "2023-04-10T17:08:13.762164Z"
    },
    "pycharm": {
     "is_executing": true
    }
   }
  },
  {
   "cell_type": "markdown",
   "source": [
    "## Master_Autonomous_Routes_Dict"
   ],
   "metadata": {
    "collapsed": false
   }
  },
  {
   "cell_type": "code",
   "execution_count": null,
   "outputs": [],
   "source": [
    "# Dict that will contain all the information about the autonomous delivery systems\n",
    "\n",
    "# Final format will be:\n",
    "# {<districtA>: {\"distance\": 1550, \"further_parameter\": \"something\"}},\n",
    "# <districtB>:{\"distance\": 2540, \"further_parameter\": \"something_else\"}}\n",
    "\n",
    "master_autonomous_dict = {}\n",
    "\n",
    "key_a_distance = \"distance\""
   ],
   "metadata": {
    "collapsed": false,
    "ExecuteTime": {
     "start_time": "2023-04-10T17:08:13.756179Z",
     "end_time": "2023-04-10T17:08:13.771671Z"
    },
    "pycharm": {
     "is_executing": true
    }
   }
  },
  {
   "cell_type": "markdown",
   "source": [
    "## Master_Model_Output_Dict"
   ],
   "metadata": {
    "collapsed": false
   }
  },
  {
   "cell_type": "code",
   "execution_count": null,
   "outputs": [],
   "source": [
    "# Dict that will contain all the return information of the model\n",
    "\n",
    "# Final format will be:\n",
    "# {<districtA>: {\"parcels\": 180, \"parcels_redirected\": 4, \"stops\": 110, \"distance_conventional\": 853, \"distance_autonomous\":1759, \"vehicles_used_autonomous\":15}},\n",
    "# <districtB>: {\"parcels\": 158, \"parcels_redirected\": 1, \"stops\": 120, \"distance_conventional\": 965, \"distance_autonomous\":2864, \"vehicles_used_autonomous\":15}}\n",
    "\n",
    "master_districts_output_dict = {}\n",
    "\n",
    "key_d_parcels = \"parcels\"\n",
    "key_d_stops = \"stops\"\n",
    "key_d_drop_factor = \"drop_factor\"\n",
    "key_d_distance_conventional = \"dist_conv\"  # Distance for route-based conventional delivery in meters\n",
    "key_d_distance_autonomous = \"dist_auto\"  # Distance for milk-run based autonomous delivery in meters\n",
    "key_d_vehicles_autonomous = \"vehicles_auto\"\n",
    "key_d_parcels_redirected_conv = \"parcels_redirected_conv\"\n",
    "key_d_parcels_redirected_auto = \"parcels_redirected_auto\"\n"
   ],
   "metadata": {
    "collapsed": false,
    "ExecuteTime": {
     "start_time": "2023-04-10T17:08:13.772668Z",
     "end_time": "2023-04-10T17:08:13.903938Z"
    },
    "pycharm": {
     "is_executing": true
    }
   }
  },
  {
   "cell_type": "markdown",
   "source": [
    "## Master_City_Dict"
   ],
   "metadata": {
    "collapsed": false
   }
  },
  {
   "cell_type": "code",
   "execution_count": null,
   "outputs": [],
   "source": [
    "# Dict that will contain all the general information about the city\n",
    "\n",
    "# Final format will be:\n",
    "# {\"houses\": 567, \"households\":1759, \"total_parcels\":156, \"total_parcels_redirected\": 14, \"total_stops\": 110}\n",
    "\n",
    "master_city_output_dict = {}\n",
    "\n",
    "key_c_houses = \"houses\"\n",
    "key_c_households = \"households\"\n",
    "key_c_total_parcels = \"total_parcels\"\n",
    "key_c_total_parcels_redirected = \"total_parcels_redirected\"\n",
    "key_c_total_stops = \"total_stops\"\n",
    "key_c_city_dimensions = \"city_dimensions\""
   ],
   "metadata": {
    "collapsed": false,
    "ExecuteTime": {
     "start_time": "2023-04-10T17:08:13.786629Z",
     "end_time": "2023-04-10T17:08:13.972430Z"
    },
    "pycharm": {
     "is_executing": true
    }
   }
  },
  {
   "cell_type": "markdown",
   "source": [
    "---\n",
    "# Prepare maps"
   ],
   "metadata": {
    "collapsed": false
   }
  },
  {
   "cell_type": "markdown",
   "source": [
    "### Base map from Excel"
   ],
   "metadata": {
    "collapsed": false
   }
  },
  {
   "cell_type": "code",
   "execution_count": null,
   "outputs": [],
   "source": [
    "if rerun_simulation:\n",
    "    # DEBUG\n",
    "    # map_base = read_excel_map_as_df(wb_path=blank_wb_city, ws_name=blank_ws_city, col_range=column_range,\n",
    "    #                                 skiprows=skiprows, number_of_rows=num_of_rows, number_of_cols=num_of_cols)\n",
    "    map_base = read_excel_map_as_df(wb_path=blank_wb_city, ws_name=blank_ws_city, col_range=column_range,\n",
    "                                    skiprows=skiprows, number_of_rows=num_of_rows, number_of_cols=num_of_cols)\n",
    "    save_df_as_csv(map_base, csv_name_map_base)\n",
    "else:\n",
    "    map_base = read_df_from_csv(csv_name_map_base)\n",
    "\n",
    "pd.set_option('display.max_columns', None, 'display.max_rows', None)\n",
    "display(map_base)\n",
    "\n"
   ],
   "metadata": {
    "collapsed": false,
    "ExecuteTime": {
     "start_time": "2023-04-10T17:08:13.802113Z",
     "end_time": "2023-04-10T17:08:14.309268Z"
    },
    "pycharm": {
     "is_executing": true
    }
   }
  },
  {
   "cell_type": "markdown",
   "source": [
    "### Copy base map"
   ],
   "metadata": {
    "collapsed": false
   }
  },
  {
   "cell_type": "code",
   "execution_count": null,
   "outputs": [],
   "source": [
    "map_lot_use = map_base.copy()\n",
    "map_lot_use = map_lot_use.fillna(0)  # Replace NaN with empty lots"
   ],
   "metadata": {
    "collapsed": false,
    "ExecuteTime": {
     "start_time": "2023-04-10T17:08:14.309268Z",
     "end_time": "2023-04-10T17:08:14.364771Z"
    },
    "pycharm": {
     "is_executing": true
    }
   }
  },
  {
   "cell_type": "code",
   "execution_count": null,
   "outputs": [],
   "source": [
    "map_parcel = map_base.copy()"
   ],
   "metadata": {
    "collapsed": false,
    "ExecuteTime": {
     "start_time": "2023-04-10T17:08:14.326129Z",
     "end_time": "2023-04-10T17:08:14.365771Z"
    },
    "pycharm": {
     "is_executing": true
    }
   }
  },
  {
   "cell_type": "code",
   "execution_count": null,
   "outputs": [],
   "source": [
    "map_pathfinding = map_base.copy()"
   ],
   "metadata": {
    "collapsed": false,
    "ExecuteTime": {
     "start_time": "2023-04-10T17:08:14.340808Z",
     "end_time": "2023-04-10T17:08:14.414692Z"
    },
    "pycharm": {
     "is_executing": true
    }
   }
  },
  {
   "cell_type": "code",
   "execution_count": null,
   "outputs": [],
   "source": [
    "map_lot_names = map_base.copy()"
   ],
   "metadata": {
    "collapsed": false,
    "ExecuteTime": {
     "start_time": "2023-04-10T17:08:14.355285Z",
     "end_time": "2023-04-10T17:08:14.452317Z"
    },
    "pycharm": {
     "is_executing": true
    }
   }
  },
  {
   "cell_type": "markdown",
   "source": [
    "### Map styling"
   ],
   "metadata": {
    "collapsed": false
   }
  },
  {
   "cell_type": "code",
   "execution_count": null,
   "outputs": [],
   "source": [
    "def display_styled_map(map_to_style):\n",
    "    center_style = [\n",
    "        {'selector': 'td',\n",
    "         'props': [('text-align', 'center')]}\n",
    "    ]\n",
    "    styled_map = map_to_style.style\n",
    "    styled_map.set_table_styles(center_style)\n",
    "    display(styled_map)"
   ],
   "metadata": {
    "collapsed": false,
    "ExecuteTime": {
     "start_time": "2023-04-10T17:08:14.372756Z",
     "end_time": "2023-04-10T17:08:14.491453Z"
    },
    "pycharm": {
     "is_executing": true
    }
   }
  },
  {
   "cell_type": "markdown",
   "source": [
    "---\n",
    "# Populate city with houses"
   ],
   "metadata": {
    "collapsed": false
   }
  },
  {
   "cell_type": "code",
   "execution_count": null,
   "outputs": [],
   "source": [
    "def lot_next_to_road(map_df: pd.DataFrame, x:int, y:int, map_char_street) -> bool:\n",
    "    \"\"\"\n",
    "    Checks if current lot is next to a road\n",
    "    \"\"\"\n",
    "    # OG version\n",
    "    # own = map_df.iat[y, x]\n",
    "    # above = map_df.iat[y - 1, x] if y - 1 >= 0 else 0\n",
    "    # left = map_df.iat[y, x - 1] if x - 1 >= 0 else 0\n",
    "    # below = map_df.iat[y + 1, x] if y + 1 < map_df.shape[0] else 0\n",
    "    # right = map_df.iat[y, x + 1] if x + 1 < map_df.shape[1] else 0\n",
    "\n",
    "    own = map_df.iat[x, y]\n",
    "    above = map_df.iat[x - 1, y] if x - 1 >= 0 else 0\n",
    "    left = map_df.iat[x, y - 1] if y - 1 >= 0 else 0\n",
    "    below = map_df.iat[x + 1, y] if x + 1 < map_df.shape[0] else 0\n",
    "    right = map_df.iat[x, y + 1] if y + 1 < map_df.shape[1] else 0\n",
    "\n",
    "\n",
    "\n",
    "    #print(\"own\",own, \"above\",above, \"left\", left, \"right\", right, \"below\",below)  # Debug\n",
    "\n",
    "\n",
    "    around = {\"a\": True if above == map_char_street else False,\n",
    "              \"l\": True if left == map_char_street else False,\n",
    "              \"r\": True if right == map_char_street else False,\n",
    "              \"b\": True if below == map_char_street else False}\n",
    "    any_surround = any(around.values())\n",
    "\n",
    "    if own != map_char_street and any_surround:\n",
    "        return True\n",
    "    else:\n",
    "        return False\n"
   ],
   "metadata": {
    "collapsed": false,
    "ExecuteTime": {
     "start_time": "2023-04-10T17:08:14.397228Z",
     "end_time": "2023-04-10T17:08:14.577381Z"
    },
    "pycharm": {
     "is_executing": true
    }
   }
  },
  {
   "cell_type": "code",
   "execution_count": null,
   "outputs": [],
   "source": [
    "def select_household_size():\n",
    "    result = random.choices(household_size_choices, household_size_weights, k=1)\n",
    "    res_int = result[0]\n",
    "    return res_int"
   ],
   "metadata": {
    "collapsed": false,
    "ExecuteTime": {
     "start_time": "2023-04-10T17:08:14.402724Z",
     "end_time": "2023-04-10T17:08:14.577381Z"
    },
    "pycharm": {
     "is_executing": true
    }
   }
  },
  {
   "cell_type": "code",
   "execution_count": null,
   "outputs": [],
   "source": [
    "def select_parcel_quantity():\n",
    "    result = random.choices(parcel_quantity_choices, parcel_quantity_weights, k=1)\n",
    "    res_int = result[0]\n",
    "    return res_int"
   ],
   "metadata": {
    "collapsed": false,
    "ExecuteTime": {
     "start_time": "2023-04-10T17:08:14.420708Z",
     "end_time": "2023-04-10T17:08:14.578414Z"
    },
    "pycharm": {
     "is_executing": true
    }
   }
  },
  {
   "cell_type": "code",
   "execution_count": null,
   "outputs": [],
   "source": [
    "def parcels_were_redirected(system_type: str):\n",
    "    \"\"\"\n",
    "    Returns True if parcels for household were redirected else False\n",
    "    :param system_type: \"conventional\" | \"autonomous\"\n",
    "    :return:\n",
    "    \"\"\"\n",
    "    result = random.choices(parcel_redirected_choices, parcel_redirected_weights[system_type], k=1)\n",
    "    res_bool = result[0]\n",
    "    return res_bool"
   ],
   "metadata": {
    "collapsed": false,
    "ExecuteTime": {
     "start_time": "2023-04-10T17:08:14.436253Z",
     "end_time": "2023-04-10T17:08:14.579412Z"
    },
    "pycharm": {
     "is_executing": true
    }
   }
  },
  {
   "cell_type": "code",
   "execution_count": null,
   "outputs": [],
   "source": [
    "pprint(master_houses_dict)"
   ],
   "metadata": {
    "collapsed": false,
    "ExecuteTime": {
     "start_time": "2023-04-10T17:08:14.451321Z",
     "end_time": "2023-04-10T17:08:14.860872Z"
    },
    "pycharm": {
     "is_executing": true
    }
   }
  },
  {
   "cell_type": "code",
   "execution_count": null,
   "outputs": [],
   "source": [
    "def evaluate_lot_use(map_df: pd.DataFrame) -> list:\n",
    "    \"\"\"\n",
    "    Evaluates every lot in the master_dict for it use.\n",
    "    If a lot is by a road a house will be places, the households in the house chosen at random based on the choices and weights defined.\n",
    "    The parcels each household receives which are again based in choices and weights are summed up for each house.\n",
    "    The master_dict will be edited to incorporate the lot use for printing a pretty map.\n",
    "    The coordinates of the depot or depots will be returned as list of tuples.\n",
    "    :param map_df:\n",
    "    :return: depot_coordinates\n",
    "    \"\"\"\n",
    "    depot_coordinates = []\n",
    "    i = 0\n",
    "    for lot, info in master_houses_dict.items():\n",
    "        print(f\"i = {i}\")\n",
    "        i+=1\n",
    "        x, y = info[key_h_xy]\n",
    "        print(\"X\", x, \"y\", y)\n",
    "        # print(\"lot\", lot)\n",
    "        cell_val = map_df.iat[x,y] # DEBUG war im og [y,x]\n",
    "        print(f\"{lot}[{y},{x}]{cell_val}, [{x},{y}]{map_df.iat[x, y]}\")\n",
    "        # print(cell_val)\n",
    "        if cell_val == 0:\n",
    "            if lot_next_to_road(map_df, x, y, map_char_street_read):\n",
    "                households_in_house = select_household_size()\n",
    "                parcels_to_house = 0\n",
    "                parcels_to_house_redirected = 0\n",
    "                for household in range(households_in_house):\n",
    "                    parcels_for_household = select_parcel_quantity()\n",
    "                    if parcels_for_household > 0 and parcels_were_redirected(par_sys_conv_type_name):\n",
    "                        parcels_to_house_redirected += parcels_for_household\n",
    "                        print(f\"Redirected {parcels_for_household} parcels. Total: {parcels_to_house_redirected} parcels redirected\")\n",
    "                    parcels_to_house += parcels_for_household\n",
    "                info[key_h_households] = households_in_house\n",
    "                info[key_h_parcels] = parcels_to_house\n",
    "                info[key_h_parcels_redirected_conv] = parcels_to_house_redirected\n",
    "                if parcels_to_house > 0:\n",
    "                    info[key_h_lot_use] = map_char_parcel\n",
    "                    info[key_h_path_finding_val] = path_val_house_with_parcels\n",
    "                else:\n",
    "                    info[key_h_lot_use] = map_char_house\n",
    "                    info[key_h_path_finding_val] = path_val_house\n",
    "            else:\n",
    "                info[key_h_lot_use] = map_char_empty_lot\n",
    "        elif cell_val == map_char_depot:\n",
    "            info[key_h_lot_use] = map_char_depot\n",
    "            info[key_h_path_finding_val] = path_val_depot\n",
    "            depot_coordinates.append(info[key_h_xy])\n",
    "        elif cell_val == map_char_street_read:\n",
    "            info[key_h_lot_use] = map_char_street_write\n",
    "            info[key_h_path_finding_val] = path_val_road\n",
    "        else:\n",
    "            info[key_h_lot_use] = \"WTF\"\n",
    "    return depot_coordinates\n"
   ],
   "metadata": {
    "collapsed": false,
    "ExecuteTime": {
     "start_time": "2023-04-10T17:08:14.858876Z",
     "end_time": "2023-04-10T17:08:14.874157Z"
    },
    "pycharm": {
     "is_executing": true
    }
   }
  },
  {
   "cell_type": "code",
   "execution_count": null,
   "outputs": [],
   "source": [
    "if rerun_simulation:\n",
    "    depots_xy = evaluate_lot_use(map_lot_use)\n",
    "    write_or_read_depots(depots_xy, depots_xy_csv, \"w\")\n",
    "    write_master_house_dict_to_csv(master_houses_dict, master_house_csv)\n",
    "    pprint(master_houses_dict)\n",
    "    print(f\"Depot locations: {depots_xy}\")\n",
    "    print(\"------\")\n",
    "    print(\"Lot use evaluated\")\n",
    "else:\n",
    "    print(\"Reading lot use from csv...\")\n",
    "    depots_xy = write_or_read_depots([], depots_xy_csv, \"r\")\n",
    "    master_houses_dict = read_csv_to_master_house_dict(master_house_csv)\n",
    "    pprint(master_houses_dict)\n",
    "    print(f\"Depot locations: {depots_xy}\")\n",
    "    print(\"------\")\n",
    "    print(\"Lot use read from csv\")\n"
   ],
   "metadata": {
    "collapsed": false,
    "ExecuteTime": {
     "start_time": "2023-04-10T17:08:14.871165Z",
     "end_time": "2023-04-10T17:08:15.645213Z"
    },
    "pycharm": {
     "is_executing": true
    }
   }
  },
  {
   "cell_type": "code",
   "execution_count": null,
   "outputs": [],
   "source": [
    "pprint(master_houses_dict)\n"
   ],
   "metadata": {
    "collapsed": false,
    "ExecuteTime": {
     "start_time": "2023-04-10T17:08:15.644213Z",
     "end_time": "2023-04-10T17:08:16.113264Z"
    },
    "pycharm": {
     "is_executing": true
    }
   }
  },
  {
   "cell_type": "markdown",
   "source": [
    "---\n",
    "# Populate maps"
   ],
   "metadata": {
    "collapsed": false
   }
  },
  {
   "cell_type": "markdown",
   "source": [
    "## Show parcel locations on map"
   ],
   "metadata": {
    "collapsed": false
   }
  },
  {
   "cell_type": "code",
   "execution_count": null,
   "outputs": [],
   "source": [
    "def populate_parcel_map():\n",
    "    for name, info in master_houses_dict.items():\n",
    "        x,y = info[key_h_xy]\n",
    "        lot_use = info[key_h_lot_use]\n",
    "        map_parcel.iat[x, y] = lot_use #DEBUG was [y,x]"
   ],
   "metadata": {
    "collapsed": false,
    "ExecuteTime": {
     "start_time": "2023-04-10T17:08:16.079995Z",
     "end_time": "2023-04-10T17:08:16.113264Z"
    },
    "pycharm": {
     "is_executing": true
    }
   }
  },
  {
   "cell_type": "code",
   "execution_count": null,
   "outputs": [],
   "source": [
    "populate_parcel_map()\n",
    "display_styled_map(map_parcel)"
   ],
   "metadata": {
    "collapsed": false,
    "ExecuteTime": {
     "start_time": "2023-04-10T17:08:16.095488Z",
     "end_time": "2023-04-10T17:08:16.283312Z"
    },
    "pycharm": {
     "is_executing": true
    }
   }
  },
  {
   "cell_type": "markdown",
   "source": [
    "## Populate lot names map"
   ],
   "metadata": {
    "collapsed": false
   }
  },
  {
   "cell_type": "code",
   "execution_count": null,
   "outputs": [],
   "source": [
    "def populate_lot_names_map():\n",
    "    for name, info in master_houses_dict.items():\n",
    "        x,y = info[key_h_xy]\n",
    "        lot_use = info[key_h_lot_use]\n",
    "        print_name = name if lot_use not in [\".\", \" \"] else \"\"\n",
    "        lot_use = lot_use if lot_use in [\".\"] else \"\"\n",
    "        map_lot_names.iat[x, y] = f\"{print_name}{lot_use}\"  # DEBUG was [y,x]"
   ],
   "metadata": {
    "collapsed": false,
    "ExecuteTime": {
     "start_time": "2023-04-10T17:08:16.279733Z",
     "end_time": "2023-04-10T17:08:16.309327Z"
    },
    "pycharm": {
     "is_executing": true
    }
   }
  },
  {
   "cell_type": "code",
   "execution_count": null,
   "outputs": [],
   "source": [
    "populate_lot_names_map()\n",
    "display_styled_map(map_lot_names)"
   ],
   "metadata": {
    "collapsed": false,
    "ExecuteTime": {
     "start_time": "2023-04-10T17:08:16.292815Z",
     "end_time": "2023-04-10T17:08:16.401364Z"
    },
    "pycharm": {
     "is_executing": true
    }
   }
  },
  {
   "cell_type": "markdown",
   "source": [
    "---\n",
    "# Pathfinding"
   ],
   "metadata": {
    "collapsed": false
   }
  },
  {
   "cell_type": "markdown",
   "source": [
    "## Setup Pathfinding"
   ],
   "metadata": {
    "collapsed": false
   }
  },
  {
   "cell_type": "markdown",
   "source": [
    "#### Transform map for pathfinding"
   ],
   "metadata": {
    "collapsed": false
   }
  },
  {
   "cell_type": "code",
   "execution_count": null,
   "outputs": [],
   "source": [
    "map_pathfinding = map_pathfinding.replace(map_char_street_read, -999)  # Replace 'X' values with -999 --> Road\n",
    "map_pathfinding = map_pathfinding.replace(map_char_depot, -1000)  # Replace 'D' values with -1000 --> Depot\n",
    "map_pathfinding = map_pathfinding.fillna(path_val_empty_lot) # Replace NaN values with -2 --> Empty lots\n",
    "map_pathfinding = map_pathfinding.apply(pd.to_numeric, errors='coerce', downcast='integer')  # Transform float values to ints\n",
    "map_pathfinding = map_pathfinding.mask(map_pathfinding >= 0, -1)  # Replace positive numeric values with -1\n",
    "map_pathfinding = map_pathfinding.replace(-999, path_val_road)  # Replace -999 values with road_val\n",
    "map_pathfinding = map_pathfinding.replace(-1000, path_val_depot)  # Replace -1000 values with depot_val\n",
    "\n",
    "map_pathfinding"
   ],
   "metadata": {
    "collapsed": false,
    "ExecuteTime": {
     "start_time": "2023-04-10T17:08:16.394961Z",
     "end_time": "2023-04-10T17:08:16.492255Z"
    },
    "pycharm": {
     "is_executing": true
    }
   }
  },
  {
   "cell_type": "markdown",
   "source": [
    "### Populate pathfinding map with values from master_dict"
   ],
   "metadata": {
    "collapsed": false
   }
  },
  {
   "cell_type": "code",
   "execution_count": null,
   "outputs": [],
   "source": [
    "def populate_pathfinding_map():\n",
    "    for lot, info in master_houses_dict.items():\n",
    "        x, y = info[key_h_xy]\n",
    "        path_value = info[key_h_path_finding_val]\n",
    "        map_pathfinding.iat[x,y] = path_value  # Debug was [y,x]"
   ],
   "metadata": {
    "collapsed": false,
    "ExecuteTime": {
     "start_time": "2023-04-10T17:08:16.472819Z",
     "end_time": "2023-04-10T17:08:16.502536Z"
    },
    "pycharm": {
     "is_executing": true
    }
   }
  },
  {
   "cell_type": "code",
   "execution_count": null,
   "outputs": [],
   "source": [
    "populate_pathfinding_map()\n",
    "display(map_pathfinding)"
   ],
   "metadata": {
    "collapsed": false,
    "ExecuteTime": {
     "start_time": "2023-04-10T17:08:16.509520Z",
     "end_time": "2023-04-10T17:08:16.751418Z"
    },
    "pycharm": {
     "is_executing": true
    }
   }
  },
  {
   "cell_type": "code",
   "execution_count": null,
   "outputs": [],
   "source": [
    "def instantiate_grid(map_df: pd.DataFrame, export_matrix:bool = False):\n",
    "    pathfinding_map_matrix = map_df.values.tolist()\n",
    "    grid_export = Grid(matrix=pathfinding_map_matrix)\n",
    "    if export_matrix:\n",
    "        return grid_export, pathfinding_map_matrix\n",
    "    else:\n",
    "        return grid_export"
   ],
   "metadata": {
    "collapsed": false,
    "ExecuteTime": {
     "start_time": "2023-04-10T17:08:16.625296Z",
     "end_time": "2023-04-10T17:08:16.752377Z"
    },
    "pycharm": {
     "is_executing": true
    }
   }
  },
  {
   "cell_type": "code",
   "execution_count": null,
   "outputs": [],
   "source": [
    "def find_path(grid: Grid, start_coords: tuple, end_coords: tuple):\n",
    "    \"\"\"\n",
    "    Finds path on a provided grid between two nodes\n",
    "\n",
    "    :param grid:\n",
    "    :param start_coords:\n",
    "    :param end_coords:\n",
    "    :return: path_res, path_len_res\n",
    "    \"\"\"\n",
    "    start_y, start_x  = start_coords  # Debug Was start_x, start_y\n",
    "    end_y, end_x  = end_coords  # Debug was end_x, end_y\n",
    "    start = grid.node(start_x, start_y)\n",
    "    end = grid.node(end_x, end_y)\n",
    "    finder = AStarFinder(diagonal_movement=DiagonalMovement.never)\n",
    "    path_res, runs = finder.find_path(start, end, grid)\n",
    "    path_len_res = len(path_res)\n",
    "    # print('operations:', runs, 'path length:', path_len)\n",
    "    # print(grid.grid_str(path=path, start=start, end=end))\n",
    "    grid.cleanup()\n",
    "    return path_res, path_len_res"
   ],
   "metadata": {
    "collapsed": false,
    "ExecuteTime": {
     "start_time": "2023-04-10T17:08:16.645766Z",
     "end_time": "2023-04-10T17:08:16.752377Z"
    },
    "pycharm": {
     "is_executing": true
    }
   }
  },
  {
   "cell_type": "code",
   "execution_count": null,
   "outputs": [],
   "source": [
    "def draw_path_to_map(path_to_draw: list, map_to_print: pd.DataFrame):\n",
    "    path_marker = \"🟥\"\n",
    "    print_map = map_to_print.copy()\n",
    "    # FixMe: if first or last node is above or below the start or finish pop it of because it will otherwise overlap the stop or start\n",
    "    #path_to_draw.pop(0)\n",
    "    #path_to_draw.pop(len(path_to_draw)-1)\n",
    "    for loc in path_to_draw:\n",
    "        y, x = loc  # Debug was x,y # no idea why it is flipped here\n",
    "        # print(loc)\n",
    "        print_map.iat[x,y] = path_marker    # Debug was [y,x]\n",
    "    return print_map"
   ],
   "metadata": {
    "collapsed": false,
    "ExecuteTime": {
     "start_time": "2023-04-10T17:08:16.653264Z",
     "end_time": "2023-04-10T17:08:16.752377Z"
    },
    "pycharm": {
     "is_executing": true
    }
   }
  },
  {
   "cell_type": "code",
   "execution_count": null,
   "outputs": [],
   "source": [
    "def draw_from_lot_to_lot(start_lot: str|tuple, end_lot: str|tuple):\n",
    "    if type(start_lot) is str:\n",
    "        start_lot = master_houses_dict[start_lot][key_h_xy]\n",
    "    if type(end_lot) is str:\n",
    "        end_lot = master_houses_dict[end_lot][key_h_xy]\n",
    "\n",
    "    path, path_len = find_path(map_pathfinding_grid, start_lot, end_lot)\n",
    "    display_styled_map(draw_path_to_map(path, map_parcel))\n"
   ],
   "metadata": {
    "collapsed": false,
    "ExecuteTime": {
     "start_time": "2023-04-10T17:08:16.670734Z",
     "end_time": "2023-04-10T17:08:16.788427Z"
    },
    "pycharm": {
     "is_executing": true
    }
   }
  },
  {
   "cell_type": "markdown",
   "source": [
    "## Execute pathfinding"
   ],
   "metadata": {
    "collapsed": false
   }
  },
  {
   "cell_type": "code",
   "execution_count": null,
   "outputs": [],
   "source": [
    "map_pathfinding_grid, map_pathfinding_matrix = instantiate_grid(map_pathfinding, export_matrix=True)"
   ],
   "metadata": {
    "collapsed": false,
    "ExecuteTime": {
     "start_time": "2023-04-10T17:08:16.685215Z",
     "end_time": "2023-04-10T17:08:16.789564Z"
    },
    "pycharm": {
     "is_executing": true
    }
   }
  },
  {
   "cell_type": "code",
   "execution_count": null,
   "outputs": [],
   "source": [
    "# Draw path from depot to random parcel location for testing\n",
    "def choose_far_away_node():\n",
    "    master_houses_dict_as_list = list(master_houses_dict.items())\n",
    "    # Iterate in reverse using reversed() and a for loop\n",
    "    for lot_name, info in reversed(master_houses_dict_as_list):\n",
    "        if info[key_h_lot_use] == map_char_parcel:\n",
    "            # print(f\"Found {lot_name} with {info[key_h_xy]}\")\n",
    "            return tuple(info[key_h_xy])\n",
    "\n",
    "debug_coord_s = (1,1)\n",
    "debug_coord_e = choose_far_away_node()\n",
    "\n",
    "path, path_len = find_path(map_pathfinding_grid, debug_coord_s, debug_coord_e)\n",
    "display_styled_map(draw_path_to_map(path, map_parcel))\n"
   ],
   "metadata": {
    "collapsed": false,
    "ExecuteTime": {
     "start_time": "2023-04-10T17:08:16.759040Z",
     "end_time": "2023-04-10T17:08:17.116471Z"
    },
    "pycharm": {
     "is_executing": true
    }
   }
  },
  {
   "cell_type": "markdown",
   "source": [
    "---\n",
    "# Create district routes"
   ],
   "metadata": {
    "collapsed": false
   }
  },
  {
   "cell_type": "markdown",
   "source": [
    "## Split parcel locations into delivery districts"
   ],
   "metadata": {
    "collapsed": false
   }
  },
  {
   "cell_type": "code",
   "execution_count": null,
   "outputs": [],
   "source": [
    "def determine_delivery_district(coords):\n",
    "    \"\"\"\n",
    "    Evaluates provided coordinates to return the delivery district it belongs to\n",
    "    :param coords:\n",
    "    :return:\n",
    "    \"\"\"\n",
    "    y, x = coords # Debug was x, y\n",
    "    for district, coords_range in delivery_districts.items():\n",
    "        x_min, y_min = coords_range[0]\n",
    "        x_max, y_max = coords_range[1]\n",
    "        if x_min <= x <= x_max and y_min <= y <= y_max:\n",
    "            return district\n",
    "    raise ValueError"
   ],
   "metadata": {
    "collapsed": false,
    "ExecuteTime": {
     "start_time": "2023-04-10T17:08:16.915542Z",
     "end_time": "2023-04-10T17:08:17.117469Z"
    },
    "pycharm": {
     "is_executing": true
    }
   }
  },
  {
   "cell_type": "code",
   "execution_count": null,
   "outputs": [],
   "source": [
    "def evaluate_lots_for_delivery_district():\n",
    "    \"\"\"\n",
    "    Checks which lot with a parcel quantity of > 0 belongs into which delivery district\n",
    "    \"\"\"\n",
    "    for lot, info in master_houses_dict.items():\n",
    "        print(lot, info)\n",
    "        if info[key_h_parcels]>0:\n",
    "            info[key_h_delivery_district] = determine_delivery_district(info[key_h_xy])"
   ],
   "metadata": {
    "collapsed": false,
    "ExecuteTime": {
     "start_time": "2023-04-10T17:08:16.931471Z",
     "end_time": "2023-04-10T17:08:17.117469Z"
    },
    "pycharm": {
     "is_executing": true
    }
   }
  },
  {
   "cell_type": "code",
   "execution_count": null,
   "outputs": [],
   "source": [
    "evaluate_lots_for_delivery_district()"
   ],
   "metadata": {
    "collapsed": false,
    "ExecuteTime": {
     "start_time": "2023-04-10T17:08:16.947956Z",
     "end_time": "2023-04-10T17:08:17.156075Z"
    },
    "pycharm": {
     "is_executing": true
    }
   }
  },
  {
   "cell_type": "code",
   "execution_count": null,
   "outputs": [],
   "source": [
    "pprint(master_houses_dict)"
   ],
   "metadata": {
    "collapsed": false,
    "ExecuteTime": {
     "start_time": "2023-04-10T17:08:17.014568Z",
     "end_time": "2023-04-10T17:08:17.555471Z"
    },
    "pycharm": {
     "is_executing": true
    }
   }
  },
  {
   "cell_type": "code",
   "execution_count": null,
   "outputs": [],
   "source": [
    "def split_parcel_locations_into_districts() -> dict:\n",
    "    \"\"\"\n",
    "    Splits all nodes that have parcels into a dict with the delivery district as key.\n",
    "    The depot(s) are added to each district\n",
    "    :return: {\"A\":{\"AAB\":(1,3),\"AAD\":(4,5)}, \"B\":{\"DAF\":(8,4),....}}\n",
    "    \"\"\"\n",
    "    district_quantities = {}\n",
    "    for district in delivery_districts.keys():\n",
    "        district_nodes = {}\n",
    "        for index, depot_coordinates in enumerate(depots_xy):\n",
    "            depot_name = f\"{name_string_depot}{index+1}\"\n",
    "            district_nodes[depot_name] = depot_coordinates\n",
    "        for lot, info in master_houses_dict.items():\n",
    "            if info[key_h_delivery_district] == district:\n",
    "                district_nodes[lot] = info[key_h_xy]\n",
    "        district_quantities[district] = district_nodes\n",
    "    return district_quantities"
   ],
   "metadata": {
    "collapsed": false,
    "ExecuteTime": {
     "start_time": "2023-04-10T17:08:17.538154Z",
     "end_time": "2023-04-10T17:08:17.555471Z"
    },
    "pycharm": {
     "is_executing": true
    }
   }
  },
  {
   "cell_type": "code",
   "execution_count": null,
   "outputs": [],
   "source": [
    "nodes_per_district = split_parcel_locations_into_districts()"
   ],
   "metadata": {
    "collapsed": false,
    "ExecuteTime": {
     "start_time": "2023-04-10T17:08:17.554475Z",
     "end_time": "2023-04-10T17:08:17.565959Z"
    },
    "pycharm": {
     "is_executing": true
    }
   }
  },
  {
   "cell_type": "code",
   "execution_count": null,
   "outputs": [],
   "source": [
    "# DEBUG\n",
    "for node in nodes_per_district[\"A\"]:\n",
    "    if name_string_depot not in node:\n",
    "        print(master_houses_dict[node])"
   ],
   "metadata": {
    "collapsed": false,
    "ExecuteTime": {
     "start_time": "2023-04-10T17:08:17.567957Z",
     "end_time": "2023-04-10T17:08:17.731303Z"
    },
    "pycharm": {
     "is_executing": true
    }
   }
  },
  {
   "cell_type": "code",
   "execution_count": null,
   "outputs": [],
   "source": [
    "pprint(nodes_per_district)"
   ],
   "metadata": {
    "collapsed": false,
    "ExecuteTime": {
     "start_time": "2023-04-10T17:08:17.581327Z",
     "end_time": "2023-04-10T17:08:17.753345Z"
    },
    "pycharm": {
     "is_executing": true
    }
   }
  },
  {
   "cell_type": "markdown",
   "source": [
    "## Generate distance matrices within districts"
   ],
   "metadata": {
    "collapsed": false
   }
  },
  {
   "cell_type": "code",
   "execution_count": null,
   "outputs": [],
   "source": [
    "def instantiate_distance_matrices(nodes_in_district: dict, importing_matrices: bool = False) -> dict:\n",
    "    \"\"\"\n",
    "    Creates individual (blank) distance matrices for all delivery districts.\n",
    "    :param nodes_in_district:\n",
    "    :param importing_matrices: Flag whether the blank distance matrices will be generated.\n",
    "    :return: distance_matrices_dict\n",
    "    {\"A\": <DF with all lots with parcels in district A>,\n",
    "    \"B\": <DF with all lots with parcels in district A>}\n",
    "    \"\"\"\n",
    "    distance_matrices_dict = {}\n",
    "    if not importing_matrices:\n",
    "        for district, nodes in nodes_in_district.items():\n",
    "            lot_names = list(nodes.keys())\n",
    "            distance_matrix = pd.DataFrame(index=lot_names, columns=lot_names)\n",
    "            distance_matrices_dict[district] = distance_matrix\n",
    "    return distance_matrices_dict"
   ],
   "metadata": {
    "collapsed": false,
    "ExecuteTime": {
     "start_time": "2023-04-10T17:08:17.599177Z",
     "end_time": "2023-04-10T17:08:17.753345Z"
    },
    "pycharm": {
     "is_executing": true
    }
   }
  },
  {
   "cell_type": "code",
   "execution_count": null,
   "outputs": [],
   "source": [
    "instantiate_distance_matrices(nodes_per_district)"
   ],
   "metadata": {
    "collapsed": false,
    "ExecuteTime": {
     "start_time": "2023-04-10T17:08:17.611627Z",
     "end_time": "2023-04-10T17:08:17.882518Z"
    },
    "pycharm": {
     "is_executing": true
    }
   }
  },
  {
   "cell_type": "code",
   "execution_count": null,
   "outputs": [],
   "source": [
    "def get_remaining_stops(stops: dict, cur_key:str) -> dict:\n",
    "    \"\"\"\n",
    "    Evaluates the remaining nodes which the distance has not been calculated for yet for the current key.\n",
    "    :param stops:\n",
    "    :param cur_key:\n",
    "    :return:\n",
    "    \"\"\"\n",
    "    remaining_stops = {}\n",
    "    found_key = False\n",
    "    for key, value in stops.items():\n",
    "        if key == cur_key:\n",
    "            found_key = True\n",
    "        elif found_key:\n",
    "            remaining_stops[key] = value\n",
    "    return remaining_stops"
   ],
   "metadata": {
    "collapsed": false,
    "ExecuteTime": {
     "start_time": "2023-04-10T17:08:17.796850Z",
     "end_time": "2023-04-10T17:08:17.883519Z"
    },
    "pycharm": {
     "is_executing": true
    }
   }
  },
  {
   "cell_type": "code",
   "execution_count": null,
   "outputs": [],
   "source": [
    "def populate_distance_matrix(nodes_in_district: dict, dst_matrix: pd.DataFrame, district: str) -> pd.DataFrame:\n",
    "    \"\"\"\n",
    "    Calculates the distances between each node\n",
    "    :param dict nodes_in_district: Dict of all lots that will get parcels {'LHU': (38, 76), 'LHZ': (43, 76), 'LIF': (49, 76)}\n",
    "    :param pd.DataFrame dst_matrix: DF of the instantiated distance matrix\n",
    "    :param district\n",
    "    :return:\n",
    "    \"\"\"\n",
    "    return_df = dst_matrix\n",
    "    for lot_a, node_a in nodes_in_district.items():\n",
    "        print(\"------\")\n",
    "        remaining_stops = get_remaining_stops(stops=nodes_in_district, cur_key=lot_a).items()\n",
    "        remaining_nodes = len(dict(remaining_stops).keys())\n",
    "        print(f\"Remaining nodes: {remaining_nodes}\")\n",
    "        print(f\"Checking distances for: {lot_a}{node_a}\")\n",
    "        for lot_b, node_b in remaining_stops:\n",
    "            _, tiles = find_path(grid=map_pathfinding_grid,start_coords=node_a,end_coords=node_b)\n",
    "            #print(f\"[{district}] Distance from {lot_a}{node_a} to {lot_b}{node_b} = {distance} units\")\n",
    "            return_df.loc[lot_a, lot_b] = tiles * par_sys_meters_per_tile  # DEBUG was just = tiles\n",
    "            return_df.loc[lot_b, lot_a] = tiles * par_sys_meters_per_tile\n",
    "\n",
    "    return_df = return_df.fillna(0)  # Fill distance between itself with 0\n",
    "    return return_df"
   ],
   "metadata": {
    "collapsed": false,
    "ExecuteTime": {
     "start_time": "2023-04-10T17:08:17.813009Z",
     "end_time": "2023-04-10T17:08:17.883519Z"
    },
    "pycharm": {
     "is_executing": true
    }
   }
  },
  {
   "cell_type": "code",
   "execution_count": null,
   "outputs": [],
   "source": [
    "print(nodes_per_district)"
   ],
   "metadata": {
    "collapsed": false,
    "ExecuteTime": {
     "start_time": "2023-04-10T17:08:17.828055Z",
     "end_time": "2023-04-10T17:08:17.884516Z"
    },
    "pycharm": {
     "is_executing": true
    }
   }
  },
  {
   "cell_type": "code",
   "execution_count": null,
   "outputs": [],
   "source": [
    "# Populate distance matrices\n",
    "if rerun_simulation:\n",
    "    start_time = time.time()\n",
    "    distance_matrices = instantiate_distance_matrices(nodes_in_district=nodes_per_district, importing_matrices=False)\n",
    "    for district in delivery_districts.keys():\n",
    "        print(f\"Current district: {district}\")\n",
    "        tmp_df = populate_distance_matrix(nodes_per_district[district], distance_matrices[district], district)\n",
    "        distance_matrices[district] = tmp_df\n",
    "        print(tmp_df)\n",
    "        save_file_name = f\"{csv_distance_matrix_base}{district}\"\n",
    "        save_df_as_csv(df_to_save=tmp_df, csv_name_no_filetype=save_file_name, with_header_and_rows=True)\n",
    "        print(f\"Saved '{save_file_name}'.\")\n",
    "    pprint(distance_matrices)\n",
    "    elapsed_time(start_time)\n",
    "else:\n",
    "\n",
    "    distance_matrices = instantiate_distance_matrices(nodes_in_district=nodes_per_district, importing_matrices=False)\n",
    "    pprint(distance_matrices)\n",
    "    column_names_dict = {}\n",
    "    for district, distance_matrix in distance_matrices.items():\n",
    "        column_names_dict[district] = distance_matrix.columns.tolist()\n",
    "\n",
    "    #print(\"column_names_dict\",column_names_dict)\n",
    "\n",
    "    for district in delivery_districts.keys():\n",
    "        #print(f\"Column Names for district {district}: {column_names_dict[district]}\")\n",
    "        renamed_columns = {}\n",
    "        for index, lot_name in enumerate(column_names_dict[district]):\n",
    "            renamed_columns[index] = lot_name\n",
    "        print(renamed_columns)\n",
    "        print(f\"Retrieving data from csv for district {district}\")\n",
    "        tmp_df = read_df_from_csv(f\"{csv_distance_matrix_base}{district}\", with_header_and_rows=True)\n",
    "        #tmp_df = tmp_df.rename(columns=renamed_columns)\n",
    "        distance_matrices[district] = tmp_df\n",
    "        del tmp_df\n",
    "\n",
    "\n",
    "    pprint(distance_matrices[\"A\"]) #Debug"
   ],
   "metadata": {
    "collapsed": false,
    "ExecuteTime": {
     "start_time": "2023-04-10T17:08:17.844826Z",
     "end_time": "2023-04-10T17:14:27.801667Z"
    },
    "pycharm": {
     "is_executing": true
    }
   }
  },
  {
   "cell_type": "code",
   "execution_count": null,
   "outputs": [],
   "source": [
    "display(distance_matrices)"
   ],
   "metadata": {
    "collapsed": false,
    "ExecuteTime": {
     "start_time": "2023-04-10T17:14:27.802663Z",
     "end_time": "2023-04-10T17:14:27.899962Z"
    },
    "pycharm": {
     "is_executing": true
    }
   }
  },
  {
   "cell_type": "markdown",
   "source": [
    "## Create delivery routes"
   ],
   "metadata": {
    "collapsed": false
   }
  },
  {
   "cell_type": "markdown",
   "source": [
    "### Setup data model"
   ],
   "metadata": {
    "collapsed": false
   }
  },
  {
   "cell_type": "code",
   "execution_count": null,
   "outputs": [],
   "source": [
    "vrp_data = {}\n",
    "vrp_data_key_distance_matrix = \"distance_matrix\"\n",
    "vrp_data_key_num_vehicles = \"num_vehicles\"\n",
    "vrp_data_key_depot = \"depot\""
   ],
   "metadata": {
    "collapsed": false,
    "ExecuteTime": {
     "start_time": "2023-04-10T17:14:27.896425Z",
     "end_time": "2023-04-10T17:14:27.912901Z"
    },
    "pycharm": {
     "is_executing": true
    }
   }
  },
  {
   "cell_type": "code",
   "execution_count": null,
   "outputs": [],
   "source": [
    "def prepare_data_model(distance_matrix: dict, number_of_vehicles: int = 1, depot_index: int = 0) -> dict:\n",
    "    \"\"\"\n",
    "    Returns dictionary with distance matrix as np array, number of vehicles for the route calculating, and the index of the depot in the np array\n",
    "    \"\"\"\n",
    "    vrp_data = {vrp_data_key_distance_matrix: distance_matrix.to_numpy(),\n",
    "                vrp_data_key_num_vehicles: number_of_vehicles,\n",
    "                vrp_data_key_depot: depot_index}\n",
    "    return vrp_data\n"
   ],
   "metadata": {
    "collapsed": false,
    "ExecuteTime": {
     "start_time": "2023-04-10T17:14:27.910908Z",
     "end_time": "2023-04-10T17:14:27.985712Z"
    },
    "pycharm": {
     "is_executing": true
    }
   }
  },
  {
   "cell_type": "markdown",
   "source": [
    "### Prepare data output"
   ],
   "metadata": {
    "collapsed": false
   }
  },
  {
   "cell_type": "code",
   "execution_count": null,
   "outputs": [],
   "source": [
    "def output_solution(data, manager, routing, solution):\n",
    "    \"\"\"\n",
    "    Prints solution to console.\n",
    "    :param data:\n",
    "    :param manager:\n",
    "    :param routing:\n",
    "    :param solution:\n",
    "    :return:\n",
    "    \"\"\"\n",
    "    #print(f\"Objective: {solution.ObjectiveValue()}\")\n",
    "    route_paths = {}\n",
    "    route_distances = {}\n",
    "    optimal_route_per_vehicle = {}\n",
    "    for vehicle_id in range(data[\"num_vehicles\"]):\n",
    "        index = routing.Start(vehicle_id)\n",
    "        print_routes = \"\"\n",
    "        route_distance = 0\n",
    "        optimal_route = []\n",
    "        while not routing.IsEnd(index):\n",
    "            route_index = manager.IndexToNode(index)\n",
    "            print_routes += f\" {route_index} -> \"\n",
    "            optimal_route.append(route_index)\n",
    "            previous_index = index\n",
    "            index = solution.Value(routing.NextVar(index))\n",
    "            route_distance += routing.GetArcCostForVehicle(\n",
    "                previous_index, index, vehicle_id)\n",
    "        print_routes += f\"{manager.IndexToNode(index)}\"\n",
    "        optimal_route.append(manager.IndexToNode(index))  # Add index of depot as last node\n",
    "        route_distances[vehicle_id] = route_distance\n",
    "        route_paths[vehicle_id] = print_routes\n",
    "        optimal_route_per_vehicle[vehicle_id] = optimal_route\n",
    "    return route_paths, optimal_route_per_vehicle, route_distances"
   ],
   "metadata": {
    "collapsed": false,
    "ExecuteTime": {
     "start_time": "2023-04-10T17:14:27.926448Z",
     "end_time": "2023-04-10T17:14:28.008319Z"
    },
    "pycharm": {
     "is_executing": true
    }
   }
  },
  {
   "cell_type": "code",
   "execution_count": null,
   "outputs": [],
   "source": [
    "def extract_lot_names_from_route_indices(route_indices_per_vehicle: dict, distance_matrix: pd.DataFrame):\n",
    "    lot_names = distance_matrix.columns.tolist()\n",
    "    all_routes_with_lot_names_per_vehicle = {}\n",
    "    for vehicle_id, route in route_indices_per_vehicle.items():\n",
    "        route_with_lot_names = []\n",
    "        for node_index in route:\n",
    "            route_with_lot_names.append(lot_names[node_index])\n",
    "        all_routes_with_lot_names_per_vehicle[vehicle_id]=route_with_lot_names\n",
    "    return all_routes_with_lot_names_per_vehicle"
   ],
   "metadata": {
    "collapsed": false,
    "ExecuteTime": {
     "start_time": "2023-04-10T17:14:27.944078Z",
     "end_time": "2023-04-10T17:14:28.009348Z"
    },
    "pycharm": {
     "is_executing": true
    }
   }
  },
  {
   "cell_type": "markdown",
   "source": [
    "### Instantiate model"
   ],
   "metadata": {
    "collapsed": false
   }
  },
  {
   "cell_type": "code",
   "execution_count": null,
   "outputs": [],
   "source": [
    "def evaluate_vrp(distance_matrix: dict, number_of_vehicles: int = 1) -> tuple[dict, dict, dict]:\n",
    "    \"\"\"\n",
    "    Evaluates the vrp for one delivery district for each set delivery vehicle.\n",
    "    :param distance_matrix:\n",
    "    :param number_of_vehicles:\n",
    "    :return: print_routes, route_indices, path_distances\n",
    "    \"\"\"\n",
    "    # Prepare data model\n",
    "    data = prepare_data_model(distance_matrix=distance_matrix,\n",
    "                              number_of_vehicles=number_of_vehicles,\n",
    "                              depot_index=0)\n",
    "    # Setup index manager\n",
    "    manager = pywrapcp.RoutingIndexManager(len(data['distance_matrix']),\n",
    "                                           data['num_vehicles'],\n",
    "                                           data['depot'])\n",
    "    # Instantiate routing model\n",
    "    routing = pywrapcp.RoutingModel(manager)\n",
    "\n",
    "    def distance_callback(from_index, to_index):\n",
    "        \"\"\"Returns the distance between the two nodes.\"\"\"\n",
    "        # Convert from routing variable Index to distance matrix NodeIndex.\n",
    "        from_node = manager.IndexToNode(from_index)\n",
    "        to_node = manager.IndexToNode(to_index)\n",
    "        return data['distance_matrix'][from_node][to_node]\n",
    "\n",
    "    transit_callback_index = routing.RegisterTransitCallback(distance_callback)\n",
    "\n",
    "    # Calculate cost of each path\n",
    "    routing.SetArcCostEvaluatorOfAllVehicles(transit_callback_index)\n",
    "\n",
    "    # Add distance constraint\n",
    "    dimension_name = 'Distance'\n",
    "    routing.AddDimension(\n",
    "        transit_callback_index,\n",
    "        0,  # no slack\n",
    "        5000,  # vehicle maximum travel distance\n",
    "        True,  # start cumulate to zero\n",
    "        dimension_name)\n",
    "    distance_dimension = routing.GetDimensionOrDie(dimension_name)\n",
    "    distance_dimension.SetGlobalSpanCostCoefficient(100)\n",
    "\n",
    "    # Setting first solution heuristic\n",
    "    search_parameters = pywrapcp.DefaultRoutingSearchParameters()\n",
    "    search_parameters.first_solution_strategy = (\n",
    "        routing_enums_pb2.FirstSolutionStrategy.PATH_CHEAPEST_ARC)\n",
    "\n",
    "    # Solve the problem\n",
    "    solution = routing.SolveWithParameters(search_parameters)\n",
    "\n",
    "    print_route_per_vehicle = {}\n",
    "    route_indices_per_vehicle = {}\n",
    "    path_distance_per_vehicle={}\n",
    "    # Print solution on console.\n",
    "    if solution:\n",
    "        print_route_per_vehicle, route_indices_per_vehicle, path_distance_per_vehicle = output_solution(data, manager, routing, solution)\n",
    "    else:\n",
    "        print('No solution found !')\n",
    "\n",
    "    return print_route_per_vehicle, route_indices_per_vehicle, path_distance_per_vehicle\n"
   ],
   "metadata": {
    "collapsed": false,
    "ExecuteTime": {
     "start_time": "2023-04-10T17:14:27.961379Z",
     "end_time": "2023-04-10T17:14:28.009348Z"
    },
    "pycharm": {
     "is_executing": true
    }
   }
  },
  {
   "cell_type": "markdown",
   "source": [
    "### Execute model for each district"
   ],
   "metadata": {
    "collapsed": false
   }
  },
  {
   "cell_type": "code",
   "execution_count": null,
   "outputs": [],
   "source": [
    "def find_routes_for_delivery_districts(delivery_districts: dict, distance_matrices: dict):\n",
    "    if rerun_simulation:\n",
    "        print(\"Analysing delivery routes\")\n",
    "        routes_per_district = {}\n",
    "        for district in delivery_districts:\n",
    "            print(f\"Analyzing delivery district: {district}\")\n",
    "            relevant_distance_matrix = distance_matrices[district]\n",
    "            print_route_per_vehicle, route_indices_per_vehicle, path_distance_per_vehicle = evaluate_vrp(relevant_distance_matrix)\n",
    "            routes_per_vehicle = extract_lot_names_from_route_indices(route_indices_per_vehicle, relevant_distance_matrix)\n",
    "            for vehicle_id in routes_per_vehicle:\n",
    "                print(f\"Optimized route for vehicle {vehicle_id} in district {district}:\")\n",
    "                print(\" -> \".join(routes_per_vehicle[vehicle_id]))\n",
    "                print(f\"Total distance for vehicle {vehicle_id} in district {district}: {path_distance_per_vehicle[vehicle_id]} units\")\n",
    "                print(f\"----------\")\n",
    "            routes_per_district[district] = {}\n",
    "            routes_per_district[district][\"paths\"] = routes_per_vehicle\n",
    "            routes_per_district[district][\"path_lengths\"] = path_distance_per_vehicle\n",
    "        print(\"Saving delivery routes to csv\")\n",
    "        df_routes_per_district = pd.DataFrame(routes_per_district)\n",
    "        save_df_as_csv(df_routes_per_district, \"vehicle_delivery_routes\", True)\n",
    "\n",
    "    else:\n",
    "        print(\"Reading delivery routes from csv files\")\n",
    "        df_routes_per_district = read_df_from_csv(\"vehicle_delivery_routes\", True)\n",
    "    return df_routes_per_district\n"
   ],
   "metadata": {
    "collapsed": false,
    "ExecuteTime": {
     "start_time": "2023-04-10T17:14:27.976171Z",
     "end_time": "2023-04-10T17:14:28.009348Z"
    },
    "pycharm": {
     "is_executing": true
    }
   }
  },
  {
   "cell_type": "code",
   "execution_count": null,
   "outputs": [],
   "source": [
    "routes_per_district = find_routes_for_delivery_districts(delivery_districts=delivery_districts, distance_matrices=distance_matrices)"
   ],
   "metadata": {
    "collapsed": false,
    "ExecuteTime": {
     "start_time": "2023-04-10T17:14:27.989679Z",
     "end_time": "2023-04-10T17:14:31.549369Z"
    },
    "pycharm": {
     "is_executing": true
    }
   }
  },
  {
   "cell_type": "markdown",
   "source": [
    "### Populate master_routes_dict\n",
    "<a id='sheesh'></a>"
   ],
   "metadata": {
    "collapsed": false
   }
  },
  {
   "cell_type": "code",
   "execution_count": null,
   "outputs": [],
   "source": [
    "def populate_master_dict_routes(df):\n",
    "    \"\"\"Populates the master_dict_route\"\"\"\n",
    "    result = {}\n",
    "    for index, row in df.iterrows():\n",
    "        paths = row['paths']\n",
    "        path_lengths = row['path_lengths']\n",
    "        if isinstance(paths, str):\n",
    "            paths = ast.literal_eval(paths)\n",
    "        if isinstance(path_lengths, str):\n",
    "            path_lengths = ast.literal_eval(path_lengths)\n",
    "        result[index] = {\n",
    "            'paths': paths,\n",
    "            'path_lengths': path_lengths\n",
    "        }\n",
    "    return result\n",
    "\n",
    "print(type(routes_per_district))\n",
    "\n",
    "temp_ = routes_per_district.copy()\n",
    "temp_ = temp_.T # Transpose df\n",
    "pprint(temp_)\n",
    "master_routes_dict = populate_master_dict_routes(temp_)\n",
    "del temp_\n",
    "print(master_routes_dict)\n",
    "\n",
    "#print(master_dict_routes)\n",
    "\n",
    "print(master_routes_dict[\"A\"][\"paths\"][0])\n"
   ],
   "metadata": {
    "collapsed": false,
    "ExecuteTime": {
     "start_time": "2023-04-10T17:14:31.514503Z",
     "end_time": "2023-04-10T17:14:31.550402Z"
    },
    "pycharm": {
     "is_executing": true
    }
   }
  },
  {
   "cell_type": "markdown",
   "source": [
    "## Visualize delivery route"
   ],
   "metadata": {
    "collapsed": false
   }
  },
  {
   "cell_type": "code",
   "execution_count": null,
   "outputs": [],
   "source": [
    "export_map_to_excel_with_formatting(map_parcel, excel_pathvis_wb, excel_pathvis_ws)"
   ],
   "metadata": {
    "collapsed": false,
    "ExecuteTime": {
     "start_time": "2023-04-10T17:14:31.527707Z",
     "end_time": "2023-04-10T17:14:31.657462Z"
    },
    "pycharm": {
     "is_executing": true
    }
   }
  },
  {
   "cell_type": "code",
   "execution_count": null,
   "outputs": [],
   "source": [
    "# TODO visualizes"
   ],
   "metadata": {
    "collapsed": false,
    "ExecuteTime": {
     "start_time": "2023-04-10T17:14:31.653034Z",
     "end_time": "2023-04-10T17:14:31.669973Z"
    },
    "pycharm": {
     "is_executing": true
    }
   }
  },
  {
   "cell_type": "code",
   "execution_count": null,
   "outputs": [],
   "source": [],
   "metadata": {
    "collapsed": false,
    "ExecuteTime": {
     "start_time": "2023-04-10T17:14:31.667978Z",
     "end_time": "2023-04-10T17:14:31.703365Z"
    },
    "pycharm": {
     "is_executing": true
    }
   }
  },
  {
   "cell_type": "markdown",
   "source": [],
   "metadata": {
    "collapsed": false
   }
  },
  {
   "cell_type": "markdown",
   "source": [
    "# Create milkruns for autonomous delivery"
   ],
   "metadata": {
    "collapsed": false
   }
  },
  {
   "cell_type": "markdown",
   "source": [
    "## Define sum function\n",
    "\n",
    "Every point has to be visited once.\n",
    "The delivery vehicle has to go from the depot to the point and return (depending on the carry capacity)\n",
    "Distance per house = <distance_from_depot_to_node> * 2"
   ],
   "metadata": {
    "collapsed": false
   }
  },
  {
   "cell_type": "code",
   "execution_count": null,
   "outputs": [],
   "source": [
    "def calculate_runs_per_house(lot_name, carry_capacity: int = 1):\n",
    "    parcel_qty = master_houses_dict[lot_name][key_h_parcels]\n",
    "    runs = math.ceil(parcel_qty / carry_capacity)\n",
    "    master_houses_dict[lot_name][key_h_delivery_runs_required] = runs\n",
    "    return runs\n"
   ],
   "metadata": {
    "collapsed": false,
    "ExecuteTime": {
     "start_time": "2023-04-10T17:14:31.683591Z",
     "end_time": "2023-04-10T17:14:31.704362Z"
    },
    "pycharm": {
     "is_executing": true
    }
   }
  },
  {
   "cell_type": "code",
   "execution_count": null,
   "outputs": [],
   "source": [
    "def calculate_milk_run_distances(df: pd.DataFrame, district_name, carry_capacity:int = 1):\n",
    "    \"\"\"\n",
    "    Calculate the sum of all values in row 0 of a DataFrame.\n",
    "    :param df:\n",
    "    :return:\n",
    "    \"\"\"\n",
    "    headers = list(df)\n",
    "    # Filter Depots from list\n",
    "    filtered_headers = [col for col in headers if name_string_depot not in col]\n",
    "    row = df.iloc[0]\n",
    "    row_values = row.tolist()\n",
    "    #print(filtered_headers)\n",
    "    # Get quantities for each lot\n",
    "\n",
    "    path_length = 0\n",
    "    for index, lot_name in enumerate(headers):\n",
    "        if lot_name in filtered_headers:\n",
    "            path_length_per_lot = 0\n",
    "            run_multiplier = calculate_runs_per_house(lot_name, carry_capacity)\n",
    "            distance = row_values[index] * par_sys_meters_per_tile  # Debug was only row_values[index]\n",
    "            distance_both_ways = distance * 2\n",
    "            distance_all_runs = distance_both_ways * run_multiplier\n",
    "            path_length_per_lot += distance_all_runs\n",
    "            print(f\"[{district_name}]Path length for {lot_name}= {path_length_per_lot} Parcels={master_houses_dict[lot_name][key_h_parcels]}, Distance from Depot={row_values[index]}\")\n",
    "            path_length += path_length_per_lot\n",
    "\n",
    "            # Calculate how many parcels were redirected\n",
    "            parcels_to_house = master_houses_dict[lot_name][key_h_parcels]\n",
    "            print(parcels_to_house)\n",
    "            for parcel in range(parcels_to_house):\n",
    "                redirected_parcel = parcels_were_redirected(par_sys_aut_type_name)\n",
    "                master_houses_dict[lot_name][key_h_parcels_redirected_auto] += redirected_parcel if redirected_parcel > 0 else 0\n",
    "\n",
    "    #print(row.tolist())\n",
    "    return path_length\n"
   ],
   "metadata": {
    "collapsed": false,
    "ExecuteTime": {
     "start_time": "2023-04-10T17:14:31.701371Z",
     "end_time": "2023-04-10T17:14:31.720126Z"
    },
    "pycharm": {
     "is_executing": true
    }
   }
  },
  {
   "cell_type": "code",
   "execution_count": null,
   "outputs": [],
   "source": [
    "print(distance_matrices[\"A\"])\n",
    "print(calculate_milk_run_distances(distance_matrices[\"A\"], \"A\"))"
   ],
   "metadata": {
    "collapsed": false,
    "ExecuteTime": {
     "start_time": "2023-04-10T17:14:31.714574Z",
     "end_time": "2023-04-10T17:14:31.782382Z"
    },
    "pycharm": {
     "is_executing": true
    }
   }
  },
  {
   "cell_type": "code",
   "execution_count": null,
   "outputs": [],
   "source": [
    "def populate_autonomous_delivery_dict():\n",
    "    for district, distance_matrix in distance_matrices.items():\n",
    "        master_autonomous_dict[district] = {}\n",
    "        print(f\"Calculating milk run distances for district {district}\")\n",
    "        distance = calculate_milk_run_distances(df=distance_matrix, district_name=district, carry_capacity=par_sys_aut_vehicle_capacity)\n",
    "        master_autonomous_dict[district][key_a_distance] = distance\n",
    "    print(master_autonomous_dict)\n"
   ],
   "metadata": {
    "collapsed": false,
    "ExecuteTime": {
     "start_time": "2023-04-10T17:14:31.746790Z",
     "end_time": "2023-04-10T17:14:31.782382Z"
    },
    "pycharm": {
     "is_executing": true
    }
   }
  },
  {
   "cell_type": "code",
   "execution_count": null,
   "outputs": [],
   "source": [
    "populate_autonomous_delivery_dict()"
   ],
   "metadata": {
    "collapsed": false,
    "ExecuteTime": {
     "start_time": "2023-04-10T17:14:31.761295Z",
     "end_time": "2023-04-10T17:14:31.782382Z"
    },
    "pycharm": {
     "is_executing": true
    }
   }
  },
  {
   "cell_type": "markdown",
   "source": [
    "# Model output"
   ],
   "metadata": {
    "collapsed": false
   }
  },
  {
   "cell_type": "markdown",
   "source": [
    "## Modifier layer\n",
    "Apply defined multipliers to adjust parameters to approximate real-world values"
   ],
   "metadata": {
    "collapsed": false
   }
  },
  {
   "cell_type": "code",
   "execution_count": null,
   "outputs": [],
   "source": [
    "# Copy all master dicts to not modify those\n",
    "mod_master_houses_dict = copy.deepcopy(master_houses_dict)\n",
    "mod_master_city_dict = copy.deepcopy(master_city_output_dict)\n",
    "mod_master_routes_dict = copy.deepcopy(master_routes_dict)\n",
    "mod_master_autonomous_dict = copy.deepcopy(master_autonomous_dict)\n",
    "\n",
    "# Modify all distances\n",
    "print(\"Applying modifier for distances\")\n",
    "for district in delivery_districts:\n",
    "    # Modify conventional distances\n",
    "    current_route_path_length = master_routes_dict[district][key_r_path_lengths][0]  # Todo add possibility to change vehicles\n",
    "    modified_route_path_length = round(current_route_path_length * par_sys_distance_multiplier)\n",
    "    print(f\"District {district} (conventional) distance was: {current_route_path_length} | modified to: {modified_route_path_length}\")\n",
    "    mod_master_routes_dict[district][key_r_path_lengths][0] = modified_route_path_length\n",
    "\n",
    "    # Modify autonomous distances\n",
    "    current_autonomous_path_length = master_autonomous_dict[district][key_a_distance]\n",
    "    modified_autonomous_path_length = round(current_autonomous_path_length * par_sys_distance_multiplier)\n",
    "    print(f\"District {district} (autonomous) distance was: {current_autonomous_path_length} | modified to: {modified_autonomous_path_length}\")\n",
    "    mod_master_autonomous_dict[district][key_a_distance] = modified_autonomous_path_length\n",
    "\n"
   ],
   "metadata": {
    "collapsed": false,
    "ExecuteTime": {
     "start_time": "2023-04-10T17:14:31.777872Z",
     "end_time": "2023-04-10T17:14:31.890024Z"
    },
    "pycharm": {
     "is_executing": true
    }
   }
  },
  {
   "cell_type": "markdown",
   "source": [
    "## Gather output"
   ],
   "metadata": {
    "collapsed": false
   }
  },
  {
   "cell_type": "code",
   "execution_count": null,
   "outputs": [],
   "source": [
    "def populate_master_city_output_dict():\n",
    "    number_of_houses = 0\n",
    "    number_of_households = 0\n",
    "    number_of_parcels = 0\n",
    "    number_of_redirected_parcels = 0\n",
    "    number_of_stops = 0\n",
    "\n",
    "    for lot, info in master_houses_dict.items():\n",
    "        if info[key_h_lot_use] == map_char_house:\n",
    "            number_of_houses += 1\n",
    "        if info[key_h_lot_use] == map_char_parcel:\n",
    "            number_of_stops += 1\n",
    "        number_of_households += info[key_h_households]\n",
    "        number_of_parcels += info[key_h_parcels]\n",
    "        number_of_redirected_parcels += info[key_h_parcels_redirected_conv]\n",
    "\n",
    "    master_city_output_dict[key_c_houses] = number_of_houses\n",
    "    master_city_output_dict[key_c_households] = number_of_households\n",
    "    master_city_output_dict[key_c_total_parcels] = number_of_parcels\n",
    "    master_city_output_dict[key_c_total_stops] = number_of_stops\n",
    "    master_city_output_dict[key_c_total_parcels_redirected] = number_of_redirected_parcels\n",
    "    master_city_output_dict[key_c_city_dimensions] = (num_of_cols * par_sys_meters_per_tile, num_of_rows * par_sys_meters_per_tile)"
   ],
   "metadata": {
    "collapsed": false,
    "ExecuteTime": {
     "start_time": "2023-04-10T17:14:31.823049Z",
     "end_time": "2023-04-10T17:14:31.890024Z"
    },
    "pycharm": {
     "is_executing": true
    }
   }
  },
  {
   "cell_type": "code",
   "execution_count": null,
   "outputs": [],
   "source": [
    "def populate_master_districts_output_dict():\n",
    "    parcels_by_district = {}\n",
    "    for district in delivery_districts:\n",
    "        master_districts_output_dict[district] = {}\n",
    "        total_parcels_in_district = 0\n",
    "        total_stops_in_district = 0\n",
    "        total_redirected_parcels_in_district_conv = 0\n",
    "        total_redirected_parcels_in_district_auto = 0\n",
    "\n",
    "        # Sum total number of stops in district\n",
    "        for lot, info in master_houses_dict.items():\n",
    "            # print(\"lot\", lot, \"info\",info)\n",
    "            if info[key_h_parcels] > 0 and info[key_h_delivery_district]==district:\n",
    "                total_parcels_in_district += int(info[key_h_parcels])\n",
    "                total_stops_in_district += 1\n",
    "\n",
    "        # Sum total redirected parcels in district\n",
    "        for lot, info in master_houses_dict.items():\n",
    "            redirected_parcels_conv = info[key_h_parcels_redirected_conv]\n",
    "            if redirected_parcels_conv  > 0 and info[key_h_delivery_district]==district:\n",
    "                total_redirected_parcels_in_district_conv += redirected_parcels_conv\n",
    "\n",
    "            redirected_parcels_auto = info[key_h_parcels_redirected_auto]\n",
    "            if redirected_parcels_auto  > 0 and info[key_h_delivery_district]==district:\n",
    "                total_redirected_parcels_in_district_auto += redirected_parcels_auto\n",
    "\n",
    "        master_districts_output_dict[district][key_d_parcels] = total_parcels_in_district\n",
    "        master_districts_output_dict[district][key_d_parcels_redirected_conv] = total_redirected_parcels_in_district_conv\n",
    "        master_districts_output_dict[district][key_d_parcels_redirected_auto] = total_redirected_parcels_in_district_auto\n",
    "        master_districts_output_dict[district][key_d_stops] = total_stops_in_district\n",
    "        master_districts_output_dict[district][key_d_drop_factor] = 0 if total_stops_in_district == 0 else (total_parcels_in_district / total_stops_in_district)\n",
    "        master_districts_output_dict[district][key_d_distance_conventional] = master_routes_dict[district][key_r_path_lengths][0]\n",
    "        master_districts_output_dict[district][key_d_distance_autonomous] = master_autonomous_dict[district][key_a_distance]\n"
   ],
   "metadata": {
    "collapsed": false,
    "ExecuteTime": {
     "start_time": "2023-04-10T17:14:31.851080Z",
     "end_time": "2023-04-10T17:14:31.890024Z"
    },
    "pycharm": {
     "is_executing": true
    }
   }
  },
  {
   "cell_type": "markdown",
   "source": [
    "## Model output"
   ],
   "metadata": {
    "collapsed": false
   }
  },
  {
   "cell_type": "code",
   "execution_count": null,
   "outputs": [],
   "source": [
    "populate_master_districts_output_dict()\n",
    "populate_master_city_output_dict()\n",
    "\n",
    "print(\"District data:\")\n",
    "pprint(master_districts_output_dict)\n",
    "\n",
    "print(\"------\")\n",
    "\n",
    "print(\"City data:\")\n",
    "pprint(master_city_output_dict)"
   ],
   "metadata": {
    "collapsed": false,
    "ExecuteTime": {
     "start_time": "2023-04-10T17:14:31.870563Z",
     "end_time": "2023-04-10T17:14:31.900135Z"
    },
    "pycharm": {
     "is_executing": true
    }
   }
  },
  {
   "cell_type": "markdown",
   "source": [
    "### Export dict to csv file"
   ],
   "metadata": {
    "collapsed": false
   }
  },
  {
   "cell_type": "code",
   "execution_count": null,
   "outputs": [],
   "source": [
    "def transform_output_dict_to_2d_shape(input_dict, join_key):\n",
    "    \"\"\"\n",
    "    Transforms a dictionary into a 2D shape with join_key key-value pairs.\n",
    "    \"\"\"\n",
    "    input_dict = copy.deepcopy(input_dict)\n",
    "\n",
    "    return_list = []\n",
    "    for key, val in input_dict.items():\n",
    "        val[join_key] = key\n",
    "        return_list.append(val)\n",
    "    header = return_list[0].keys()\n",
    "    return return_list, header"
   ],
   "metadata": {
    "collapsed": false,
    "ExecuteTime": {
     "start_time": "2023-04-10T17:14:31.902129Z",
     "end_time": "2023-04-10T17:14:32.004331Z"
    },
    "pycharm": {
     "is_executing": true
    }
   }
  },
  {
   "cell_type": "code",
   "execution_count": null,
   "outputs": [],
   "source": [
    "not_yet_exported = True"
   ],
   "metadata": {
    "collapsed": false,
    "ExecuteTime": {
     "start_time": "2023-04-10T17:14:31.916051Z",
     "end_time": "2023-04-10T17:14:32.012337Z"
    },
    "pycharm": {
     "is_executing": true
    }
   }
  },
  {
   "cell_type": "code",
   "execution_count": null,
   "outputs": [],
   "source": [
    "if not_yet_exported:\n",
    "    now = datetime.datetime.now()\n",
    "    formatted_timestamp = now.strftime(\"%Y-%m-%dT%H:%M:%S\")\n",
    "    master_city_output_dict_with_timestamp = copy.deepcopy(master_city_output_dict)\n",
    "\n",
    "    master_city_output_dict_with_timestamp[\"timestamp\"] = f\"{formatted_timestamp}\"\n",
    "\n",
    "    master_districts_output_dict_with_timestamp = copy.deepcopy(master_districts_output_dict)\n",
    "    for district, info in master_districts_output_dict_with_timestamp.items():\n",
    "        master_districts_output_dict_with_timestamp[district][\"timestamp\"] = f\"{formatted_timestamp}\"\n",
    "\n",
    "    model_output_metadata_name = f\"Model_Output_City_Metadata.csv\"\n",
    "    model_output_full_path_metadata = f\"{model_output_path}\\\\{model_output_metadata_name}\"\n",
    "    field_names_metadata = list(master_city_output_dict_with_timestamp)\n",
    "\n",
    "    model_output_districts_name = f\"Model_Output_City_Districts.csv\"\n",
    "    model_output_full_path_districts = f\"{model_output_path}\\\\{model_output_districts_name}\"\n",
    "\n",
    "\n",
    "    if os.path.exists(model_output_full_path_metadata):\n",
    "        write_header_metadata = False  # Set to False if file exists\n",
    "    else:\n",
    "        write_header_metadata = True   # Set to True if file does not exist\n",
    "\n",
    "    with open(model_output_full_path_metadata, \"a\", newline=\"\") as f:\n",
    "        writer = csv.DictWriter(f, fieldnames=field_names_metadata)\n",
    "        if write_header_metadata:\n",
    "            writer.writeheader()\n",
    "        writer.writerow(master_city_output_dict_with_timestamp)\n",
    "\n",
    "\n",
    "    if os.path.exists(model_output_full_path_districts):\n",
    "        write_header_districts = False  # Set to False if file exists\n",
    "    else:\n",
    "        write_header_districts = True   # Set to True if file does not exist\n",
    "\n",
    "    with open(model_output_full_path_districts, 'a', newline='') as f:\n",
    "        master_districts_output_as_list, header = transform_output_dict_to_2d_shape(master_districts_output_dict_with_timestamp,\"district\")\n",
    "        writer = csv.DictWriter(f, fieldnames=header)\n",
    "        if write_header_districts:\n",
    "            writer.writeheader()\n",
    "        # Write each dictionary as a separate row in the CSV file\n",
    "        for item in master_districts_output_as_list:\n",
    "            writer.writerow(item)\n",
    "    #\n",
    "    # with open(model_output_full_path_districts, \"a\", newline=\"\") as f:\n",
    "    #     writer = csv.DictWriter(f, fieldnames=field_names_districts)\n",
    "    #     if write_header_districts:\n",
    "    #         writer.writeheader()\n",
    "    #     writer.writerow(master_districts_output_dict_with_timestamp)\n",
    "\n",
    "    print(\"Exported csv files successfully\")\n",
    "    not_yet_exported = False\n",
    "else:\n",
    "    print(\"Current model run has already been exported. Rerun full model to prevent duplicates.\")"
   ],
   "metadata": {
    "collapsed": false,
    "ExecuteTime": {
     "start_time": "2023-04-10T17:14:31.937587Z",
     "end_time": "2023-04-10T17:14:32.012337Z"
    },
    "pycharm": {
     "is_executing": true
    }
   }
  },
  {
   "cell_type": "code",
   "execution_count": null,
   "outputs": [],
   "source": [
    "pprint(master_houses_dict)"
   ],
   "metadata": {
    "collapsed": false,
    "ExecuteTime": {
     "start_time": "2023-04-10T17:14:31.962401Z",
     "end_time": "2023-04-10T17:14:32.487207Z"
    },
    "pycharm": {
     "is_executing": true
    }
   }
  }
 ],
 "metadata": {
  "kernelspec": {
   "display_name": "Python 3",
   "language": "python",
   "name": "python3"
  },
  "language_info": {
   "codemirror_mode": {
    "name": "ipython",
    "version": 2
   },
   "file_extension": ".py",
   "mimetype": "text/x-python",
   "name": "python",
   "nbconvert_exporter": "python",
   "pygments_lexer": "ipython2",
   "version": "2.7.6"
  }
 },
 "nbformat": 4,
 "nbformat_minor": 0
}
